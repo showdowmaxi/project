{
 "cells": [
  {
   "cell_type": "markdown",
   "id": "f8b70d12",
   "metadata": {},
   "source": [
    "## 📖 Background\n",
    "Your best friend is an administrator at a large school. The school makes every student take year-end math, reading, and writing exams.\n",
    "\n",
    "Since you have recently learned data manipulation and visualization, you suggest helping your friend analyze the score results. The school's principal wants to know if test preparation courses are helpful. She also wants to explore the effect of parental education level on test scores. "
   ]
  },
  {
   "cell_type": "markdown",
   "id": "bb4cd736",
   "metadata": {},
   "source": [
    "## 💾 The data\n",
    "\n",
    "#### The file has the following fields ([source](http://roycekimmons.com/tools/generated_data/exams)):\n",
    "- \"gender\" - male / female\n",
    "- \"race/ethnicity\" - one of 5 combinations of race/ethnicity\n",
    "- \"parent_education_level\" -  highest education level of either parent\n",
    "- \"lunch\" - whether the student receives free/reduced or standard lunch\n",
    "- \"test_prep_course\" - whether the student took the test preparation course\n",
    "- \"math\" -  exam score in math \n",
    "- \"reading\" -  exam score in reading \n",
    "- \"writing\" -  exam score in writing "
   ]
  },
  {
   "cell_type": "markdown",
   "id": "6c0744d0",
   "metadata": {},
   "source": [
    "## 💪 Challenge\n",
    "Create a report to answer the principal's questions. Include:\n",
    "\n",
    "1. What are the average reading scores for students with/without the test preparation course?\n",
    "2. What are the average scores for the different parental education levels?\n",
    "3. Create plots to visualize findings for questions 1 and 2.\n",
    "4. [Optional] Look at the effects within subgroups. Compare the average scores for students with/without the test preparation course for different parental education levels (e.g., faceted plots).\n",
    "5. [Optional 2] The principal wants to know if kids who perform well on one subject also score well on the others. Look at the correlations between scores. \n",
    "6. Summarize your findings."
   ]
  },
  {
   "cell_type": "code",
   "execution_count": 1,
   "id": "c0164870-6ca9-4370-91e7-8eb44da29e81",
   "metadata": {},
   "outputs": [],
   "source": [
    "import pandas as pd\n",
    "import seaborn as sns\n",
    "from matplotlib import pyplot as plt"
   ]
  },
  {
   "cell_type": "code",
   "execution_count": 2,
   "id": "c35dc9f5-a47b-4ee9-90e1-09e1cf33e169",
   "metadata": {},
   "outputs": [
    {
     "data": {
      "application/com.datacamp.data-table.v1+json": {
       "is_truncated": false,
       "table": {
        "data": [
         {
          "gender": "female",
          "index": 0,
          "lunch": "standard",
          "math": 72,
          "parent_education_level": "bachelor's degree",
          "race/ethnicity": "group B",
          "reading": 72,
          "test_prep_course": "none",
          "writing": 74
         },
         {
          "gender": "female",
          "index": 1,
          "lunch": "standard",
          "math": 69,
          "parent_education_level": "some college",
          "race/ethnicity": "group C",
          "reading": 90,
          "test_prep_course": "completed",
          "writing": 88
         },
         {
          "gender": "female",
          "index": 2,
          "lunch": "standard",
          "math": 90,
          "parent_education_level": "master's degree",
          "race/ethnicity": "group B",
          "reading": 95,
          "test_prep_course": "none",
          "writing": 93
         },
         {
          "gender": "male",
          "index": 3,
          "lunch": "free/reduced",
          "math": 47,
          "parent_education_level": "associate's degree",
          "race/ethnicity": "group A",
          "reading": 57,
          "test_prep_course": "none",
          "writing": 44
         },
         {
          "gender": "male",
          "index": 4,
          "lunch": "standard",
          "math": 76,
          "parent_education_level": "some college",
          "race/ethnicity": "group C",
          "reading": 78,
          "test_prep_course": "none",
          "writing": 75
         }
        ],
        "schema": {
         "fields": [
          {
           "name": "index",
           "type": "integer"
          },
          {
           "name": "gender",
           "type": "string"
          },
          {
           "name": "race/ethnicity",
           "type": "string"
          },
          {
           "name": "parent_education_level",
           "type": "string"
          },
          {
           "name": "lunch",
           "type": "string"
          },
          {
           "name": "test_prep_course",
           "type": "string"
          },
          {
           "name": "math",
           "type": "integer"
          },
          {
           "name": "reading",
           "type": "integer"
          },
          {
           "name": "writing",
           "type": "integer"
          }
         ],
         "pandas_version": "0.20.0",
         "primaryKey": [
          "index"
         ]
        }
       },
       "total_rows": 5
      },
      "text/html": [
       "<div>\n",
       "<style scoped>\n",
       "    .dataframe tbody tr th:only-of-type {\n",
       "        vertical-align: middle;\n",
       "    }\n",
       "\n",
       "    .dataframe tbody tr th {\n",
       "        vertical-align: top;\n",
       "    }\n",
       "\n",
       "    .dataframe thead th {\n",
       "        text-align: right;\n",
       "    }\n",
       "</style>\n",
       "<table border=\"1\" class=\"dataframe\">\n",
       "  <thead>\n",
       "    <tr style=\"text-align: right;\">\n",
       "      <th></th>\n",
       "      <th>gender</th>\n",
       "      <th>race/ethnicity</th>\n",
       "      <th>parent_education_level</th>\n",
       "      <th>lunch</th>\n",
       "      <th>test_prep_course</th>\n",
       "      <th>math</th>\n",
       "      <th>reading</th>\n",
       "      <th>writing</th>\n",
       "    </tr>\n",
       "  </thead>\n",
       "  <tbody>\n",
       "    <tr>\n",
       "      <th>0</th>\n",
       "      <td>female</td>\n",
       "      <td>group B</td>\n",
       "      <td>bachelor's degree</td>\n",
       "      <td>standard</td>\n",
       "      <td>none</td>\n",
       "      <td>72</td>\n",
       "      <td>72</td>\n",
       "      <td>74</td>\n",
       "    </tr>\n",
       "    <tr>\n",
       "      <th>1</th>\n",
       "      <td>female</td>\n",
       "      <td>group C</td>\n",
       "      <td>some college</td>\n",
       "      <td>standard</td>\n",
       "      <td>completed</td>\n",
       "      <td>69</td>\n",
       "      <td>90</td>\n",
       "      <td>88</td>\n",
       "    </tr>\n",
       "    <tr>\n",
       "      <th>2</th>\n",
       "      <td>female</td>\n",
       "      <td>group B</td>\n",
       "      <td>master's degree</td>\n",
       "      <td>standard</td>\n",
       "      <td>none</td>\n",
       "      <td>90</td>\n",
       "      <td>95</td>\n",
       "      <td>93</td>\n",
       "    </tr>\n",
       "    <tr>\n",
       "      <th>3</th>\n",
       "      <td>male</td>\n",
       "      <td>group A</td>\n",
       "      <td>associate's degree</td>\n",
       "      <td>free/reduced</td>\n",
       "      <td>none</td>\n",
       "      <td>47</td>\n",
       "      <td>57</td>\n",
       "      <td>44</td>\n",
       "    </tr>\n",
       "    <tr>\n",
       "      <th>4</th>\n",
       "      <td>male</td>\n",
       "      <td>group C</td>\n",
       "      <td>some college</td>\n",
       "      <td>standard</td>\n",
       "      <td>none</td>\n",
       "      <td>76</td>\n",
       "      <td>78</td>\n",
       "      <td>75</td>\n",
       "    </tr>\n",
       "  </tbody>\n",
       "</table>\n",
       "</div>"
      ],
      "text/plain": [
       "   gender race/ethnicity parent_education_level         lunch  \\\n",
       "0  female        group B      bachelor's degree      standard   \n",
       "1  female        group C           some college      standard   \n",
       "2  female        group B        master's degree      standard   \n",
       "3    male        group A     associate's degree  free/reduced   \n",
       "4    male        group C           some college      standard   \n",
       "\n",
       "  test_prep_course  math  reading  writing  \n",
       "0             none    72       72       74  \n",
       "1        completed    69       90       88  \n",
       "2             none    90       95       93  \n",
       "3             none    47       57       44  \n",
       "4             none    76       78       75  "
      ]
     },
     "execution_count": 2,
     "metadata": {},
     "output_type": "execute_result"
    }
   ],
   "source": [
    "# Reading in the data\n",
    "df = pd.read_csv('data/exams.csv')\n",
    "\n",
    "# Take a look at the first datapoints\n",
    "df.head()"
   ]
  },
  {
   "cell_type": "code",
   "execution_count": 3,
   "id": "9980850b-94cc-4eff-813b-9ba207c3184e",
   "metadata": {},
   "outputs": [
    {
     "name": "stdout",
     "output_type": "stream",
     "text": [
      "<class 'pandas.core.frame.DataFrame'>\n",
      "RangeIndex: 1000 entries, 0 to 999\n",
      "Data columns (total 8 columns):\n",
      " #   Column                  Non-Null Count  Dtype \n",
      "---  ------                  --------------  ----- \n",
      " 0   gender                  1000 non-null   object\n",
      " 1   race/ethnicity          1000 non-null   object\n",
      " 2   parent_education_level  1000 non-null   object\n",
      " 3   lunch                   1000 non-null   object\n",
      " 4   test_prep_course        1000 non-null   object\n",
      " 5   math                    1000 non-null   int64 \n",
      " 6   reading                 1000 non-null   int64 \n",
      " 7   writing                 1000 non-null   int64 \n",
      "dtypes: int64(3), object(5)\n",
      "memory usage: 62.6+ KB\n"
     ]
    }
   ],
   "source": [
    "#check df\n",
    "df.info()"
   ]
  },
  {
   "cell_type": "code",
   "execution_count": 4,
   "id": "dfa564df-ff1d-4993-9635-c9713ec55c55",
   "metadata": {},
   "outputs": [
    {
     "data": {
      "text/plain": [
       "gender                    0\n",
       "race/ethnicity            0\n",
       "parent_education_level    0\n",
       "lunch                     0\n",
       "test_prep_course          0\n",
       "math                      0\n",
       "reading                   0\n",
       "writing                   0\n",
       "dtype: int64"
      ]
     },
     "execution_count": 4,
     "metadata": {},
     "output_type": "execute_result"
    }
   ],
   "source": [
    "# checking missing values\n",
    "df.isnull().sum()"
   ]
  },
  {
   "cell_type": "markdown",
   "id": "0419a2cb-75d0-40d5-ae1e-c15c2e385c20",
   "metadata": {},
   "source": [
    "#### Since the question focuses on the test preparation, let's us check what is the value in the test preparation "
   ]
  },
  {
   "cell_type": "code",
   "execution_count": 5,
   "id": "bca56f18-a3ff-461b-ad61-d229803e26e2",
   "metadata": {},
   "outputs": [
    {
     "data": {
      "text/plain": [
       "none         642\n",
       "completed    358\n",
       "Name: test_prep_course, dtype: int64"
      ]
     },
     "execution_count": 5,
     "metadata": {},
     "output_type": "execute_result"
    }
   ],
   "source": [
    "df.test_prep_course.value_counts()"
   ]
  },
  {
   "cell_type": "markdown",
   "id": "6fab6f8a-2a5f-4fc4-a46b-8c59e92b4a27",
   "metadata": {},
   "source": [
    "### What are the average reading scores for students with/without the test preparation course?"
   ]
  },
  {
   "cell_type": "code",
   "execution_count": 6,
   "id": "7c3bd455-b9b4-4118-a7b7-9f46227a8077",
   "metadata": {},
   "outputs": [
    {
     "data": {
      "text/plain": [
       "test_prep_course\n",
       "completed         NaN\n",
       "none        -7.359587\n",
       "Name: reading, dtype: float64"
      ]
     },
     "execution_count": 6,
     "metadata": {},
     "output_type": "execute_result"
    }
   ],
   "source": [
    "ave_reading = df.groupby(\"test_prep_course\")[\"reading\"].mean()\n",
    "ave_reading.diff()"
   ]
  },
  {
   "cell_type": "code",
   "execution_count": 7,
   "id": "07e5bdcf-ef8d-4995-b948-30b781ce842b",
   "metadata": {},
   "outputs": [
    {
     "data": {
      "text/plain": [
       "<AxesSubplot:title={'center':'Average reading score based on test preparation'}, xlabel='test_prep_course', ylabel='Average reading score'>"
      ]
     },
     "execution_count": 7,
     "metadata": {},
     "output_type": "execute_result"
    },
    {
     "data": {
      "image/png": "[encoded data removed]",
      "text/plain": [
       "<Figure size 432x288 with 1 Axes>"
      ]
     },
     "metadata": {
      "needs_background": "light"
     },
     "output_type": "display_data"
    }
   ],
   "source": [
    "ave_reading.plot(kind=\"bar\" ,ylabel=\"Average reading score\", title=\"Average reading score based on test preparation\")"
   ]
  },
  {
   "cell_type": "markdown",
   "id": "9ad15c74-c597-4df6-a4a9-b110f4924fe9",
   "metadata": {},
   "source": [
    "From the above graph, it can be seen that the average reading score that students do test preparations is slightly higher than students who do not prepare for tests. The difference in average readings between these two categories is around 7.36. It looks like doing test preparation is important to get a better score on reading tests. \n",
    "\n",
    "What would be other factors that have a great impact on test scores? Let's explore the relationship between parental education levels and test preparation on test scores."
   ]
  },
  {
   "cell_type": "markdown",
   "id": "51911645-3106-4650-8087-137889cb270a",
   "metadata": {},
   "source": [
    "### What are the average scores for the different parental education levels?"
   ]
  },
  {
   "cell_type": "code",
   "execution_count": 8,
   "id": "03e4591c-610a-459f-8adf-3ab5c7f922df",
   "metadata": {},
   "outputs": [],
   "source": [
    "# finding ave score based on parental education levels\n",
    "parent_education_lvl = df.groupby([\"parent_education_level\",\"test_prep_course\"]).agg({\"math\":\"mean\", \"reading\":\"mean\", \"writing\":\"mean\"})"
   ]
  },
  {
   "cell_type": "code",
   "execution_count": 9,
   "id": "bb685e33-a4b3-45d7-b2b7-e1c5237f461e",
   "metadata": {},
   "outputs": [
    {
     "data": {
      "application/com.datacamp.data-table.v1+json": {
       "is_truncated": false,
       "table": {
        "data": [
         {
          "math": 71.8292682927,
          "parent_education_level": "associate's degree",
          "reading": 76.1707317073,
          "test_prep_course": "completed",
          "writing": 76.8170731707
         },
         {
          "math": 65.5714285714,
          "parent_education_level": "associate's degree",
          "reading": 67.8571428571,
          "test_prep_course": "none",
          "writing": 65.8428571429
         },
         {
          "math": 73.2826086957,
          "parent_education_level": "bachelor's degree",
          "reading": 76.7391304348,
          "test_prep_course": "completed",
          "writing": 78.6956521739
         },
         {
          "math": 66.9027777778,
          "parent_education_level": "bachelor's degree",
          "reading": 70.6111111111,
          "test_prep_course": "none",
          "writing": 69.9861111111
         },
         {
          "math": 65,
          "parent_education_level": "high school",
          "reading": 67.8392857143,
          "test_prep_course": "completed",
          "writing": 68.0535714286
         },
         {
          "math": 60.9928571429,
          "parent_education_level": "high school",
          "reading": 63.45,
          "test_prep_course": "none",
          "writing": 60.2071428571
         },
         {
          "math": 70.6,
          "parent_education_level": "master's degree",
          "reading": 78.25,
          "test_prep_course": "completed",
          "writing": 80.1
         },
         {
          "math": 69.3076923077,
          "parent_education_level": "master's degree",
          "reading": 73.8974358974,
          "test_prep_course": "none",
          "writing": 73.4102564103
         },
         {
          "math": 71.4545454545,
          "parent_education_level": "some college",
          "reading": 75.987012987,
          "test_prep_course": "completed",
          "writing": 76.5194805195
         },
         {
          "math": 64.8926174497,
          "parent_education_level": "some college",
          "reading": 66.0872483221,
          "test_prep_course": "none",
          "writing": 64.8724832215
         },
         {
          "math": 66.7012987013,
          "parent_education_level": "some high school",
          "reading": 70.9480519481,
          "test_prep_course": "completed",
          "writing": 70.3636363636
         },
         {
          "math": 61.0784313725,
          "parent_education_level": "some high school",
          "reading": 63.9117647059,
          "test_prep_course": "none",
          "writing": 60.7549019608
         }
        ],
        "schema": {
         "fields": [
          {
           "name": "parent_education_level",
           "type": "string"
          },
          {
           "name": "test_prep_course",
           "type": "string"
          },
          {
           "name": "math",
           "type": "number"
          },
          {
           "name": "reading",
           "type": "number"
          },
          {
           "name": "writing",
           "type": "number"
          }
         ],
         "pandas_version": "0.20.0",
         "primaryKey": [
          "parent_education_level",
          "test_prep_course"
         ]
        }
       },
       "total_rows": 12
      },
      "text/html": [
       "<div>\n",
       "<style scoped>\n",
       "    .dataframe tbody tr th:only-of-type {\n",
       "        vertical-align: middle;\n",
       "    }\n",
       "\n",
       "    .dataframe tbody tr th {\n",
       "        vertical-align: top;\n",
       "    }\n",
       "\n",
       "    .dataframe thead th {\n",
       "        text-align: right;\n",
       "    }\n",
       "</style>\n",
       "<table border=\"1\" class=\"dataframe\">\n",
       "  <thead>\n",
       "    <tr style=\"text-align: right;\">\n",
       "      <th></th>\n",
       "      <th></th>\n",
       "      <th>math</th>\n",
       "      <th>reading</th>\n",
       "      <th>writing</th>\n",
       "    </tr>\n",
       "    <tr>\n",
       "      <th>parent_education_level</th>\n",
       "      <th>test_prep_course</th>\n",
       "      <th></th>\n",
       "      <th></th>\n",
       "      <th></th>\n",
       "    </tr>\n",
       "  </thead>\n",
       "  <tbody>\n",
       "    <tr>\n",
       "      <th rowspan=\"2\" valign=\"top\">associate's degree</th>\n",
       "      <th>completed</th>\n",
       "      <td>71.829268</td>\n",
       "      <td>76.170732</td>\n",
       "      <td>76.817073</td>\n",
       "    </tr>\n",
       "    <tr>\n",
       "      <th>none</th>\n",
       "      <td>65.571429</td>\n",
       "      <td>67.857143</td>\n",
       "      <td>65.842857</td>\n",
       "    </tr>\n",
       "    <tr>\n",
       "      <th rowspan=\"2\" valign=\"top\">bachelor's degree</th>\n",
       "      <th>completed</th>\n",
       "      <td>73.282609</td>\n",
       "      <td>76.739130</td>\n",
       "      <td>78.695652</td>\n",
       "    </tr>\n",
       "    <tr>\n",
       "      <th>none</th>\n",
       "      <td>66.902778</td>\n",
       "      <td>70.611111</td>\n",
       "      <td>69.986111</td>\n",
       "    </tr>\n",
       "    <tr>\n",
       "      <th rowspan=\"2\" valign=\"top\">high school</th>\n",
       "      <th>completed</th>\n",
       "      <td>65.000000</td>\n",
       "      <td>67.839286</td>\n",
       "      <td>68.053571</td>\n",
       "    </tr>\n",
       "    <tr>\n",
       "      <th>none</th>\n",
       "      <td>60.992857</td>\n",
       "      <td>63.450000</td>\n",
       "      <td>60.207143</td>\n",
       "    </tr>\n",
       "    <tr>\n",
       "      <th rowspan=\"2\" valign=\"top\">master's degree</th>\n",
       "      <th>completed</th>\n",
       "      <td>70.600000</td>\n",
       "      <td>78.250000</td>\n",
       "      <td>80.100000</td>\n",
       "    </tr>\n",
       "    <tr>\n",
       "      <th>none</th>\n",
       "      <td>69.307692</td>\n",
       "      <td>73.897436</td>\n",
       "      <td>73.410256</td>\n",
       "    </tr>\n",
       "    <tr>\n",
       "      <th rowspan=\"2\" valign=\"top\">some college</th>\n",
       "      <th>completed</th>\n",
       "      <td>71.454545</td>\n",
       "      <td>75.987013</td>\n",
       "      <td>76.519481</td>\n",
       "    </tr>\n",
       "    <tr>\n",
       "      <th>none</th>\n",
       "      <td>64.892617</td>\n",
       "      <td>66.087248</td>\n",
       "      <td>64.872483</td>\n",
       "    </tr>\n",
       "    <tr>\n",
       "      <th rowspan=\"2\" valign=\"top\">some high school</th>\n",
       "      <th>completed</th>\n",
       "      <td>66.701299</td>\n",
       "      <td>70.948052</td>\n",
       "      <td>70.363636</td>\n",
       "    </tr>\n",
       "    <tr>\n",
       "      <th>none</th>\n",
       "      <td>61.078431</td>\n",
       "      <td>63.911765</td>\n",
       "      <td>60.754902</td>\n",
       "    </tr>\n",
       "  </tbody>\n",
       "</table>\n",
       "</div>"
      ],
      "text/plain": [
       "                                              math    reading    writing\n",
       "parent_education_level test_prep_course                                 \n",
       "associate's degree     completed         71.829268  76.170732  76.817073\n",
       "                       none              65.571429  67.857143  65.842857\n",
       "bachelor's degree      completed         73.282609  76.739130  78.695652\n",
       "                       none              66.902778  70.611111  69.986111\n",
       "high school            completed         65.000000  67.839286  68.053571\n",
       "                       none              60.992857  63.450000  60.207143\n",
       "master's degree        completed         70.600000  78.250000  80.100000\n",
       "                       none              69.307692  73.897436  73.410256\n",
       "some college           completed         71.454545  75.987013  76.519481\n",
       "                       none              64.892617  66.087248  64.872483\n",
       "some high school       completed         66.701299  70.948052  70.363636\n",
       "                       none              61.078431  63.911765  60.754902"
      ]
     },
     "execution_count": 9,
     "metadata": {},
     "output_type": "execute_result"
    }
   ],
   "source": [
    "#check on the new dataframe\n",
    "parent_education_lvl"
   ]
  },
  {
   "cell_type": "code",
   "execution_count": 10,
   "id": "d669b31e-7d07-483c-9863-f4490c035397",
   "metadata": {},
   "outputs": [
    {
     "data": {
      "application/com.datacamp.data-table.v1+json": {
       "is_truncated": false,
       "table": {
        "data": [
         {
          "index": 0,
          "math": -6.3798309179,
          "parent_education_level": "bachelor's degree",
          "reading": -6.1280193237,
          "writing": -8.7095410628
         },
         {
          "index": 1,
          "math": -6.5619280049,
          "parent_education_level": "some college",
          "reading": -9.8997646649,
          "writing": -11.646997298
         },
         {
          "index": 2,
          "math": -1.2923076923,
          "parent_education_level": "master's degree",
          "reading": -4.3525641026,
          "writing": -6.6897435897
         },
         {
          "index": 3,
          "math": -6.2578397213,
          "parent_education_level": "associate's degree",
          "reading": -8.3135888502,
          "writing": -10.9742160279
         },
         {
          "index": 4,
          "math": -4.0071428571,
          "parent_education_level": "high school",
          "reading": -4.3892857143,
          "writing": -7.8464285714
         },
         {
          "index": 5,
          "math": -5.6228673287,
          "parent_education_level": "some high school",
          "reading": -7.0362872422,
          "writing": -9.6087344029
         }
        ],
        "schema": {
         "fields": [
          {
           "name": "index",
           "type": "integer"
          },
          {
           "name": "parent_education_level",
           "type": "string"
          },
          {
           "name": "math",
           "type": "number"
          },
          {
           "name": "reading",
           "type": "number"
          },
          {
           "name": "writing",
           "type": "number"
          }
         ],
         "pandas_version": "0.20.0",
         "primaryKey": [
          "index"
         ]
        }
       },
       "total_rows": 6
      },
      "text/html": [
       "<div>\n",
       "<style scoped>\n",
       "    .dataframe tbody tr th:only-of-type {\n",
       "        vertical-align: middle;\n",
       "    }\n",
       "\n",
       "    .dataframe tbody tr th {\n",
       "        vertical-align: top;\n",
       "    }\n",
       "\n",
       "    .dataframe thead th {\n",
       "        text-align: right;\n",
       "    }\n",
       "</style>\n",
       "<table border=\"1\" class=\"dataframe\">\n",
       "  <thead>\n",
       "    <tr style=\"text-align: right;\">\n",
       "      <th></th>\n",
       "      <th>parent_education_level</th>\n",
       "      <th>math</th>\n",
       "      <th>reading</th>\n",
       "      <th>writing</th>\n",
       "    </tr>\n",
       "  </thead>\n",
       "  <tbody>\n",
       "    <tr>\n",
       "      <th>0</th>\n",
       "      <td>bachelor's degree</td>\n",
       "      <td>-6.379831</td>\n",
       "      <td>-6.128019</td>\n",
       "      <td>-8.709541</td>\n",
       "    </tr>\n",
       "    <tr>\n",
       "      <th>1</th>\n",
       "      <td>some college</td>\n",
       "      <td>-6.561928</td>\n",
       "      <td>-9.899765</td>\n",
       "      <td>-11.646997</td>\n",
       "    </tr>\n",
       "    <tr>\n",
       "      <th>2</th>\n",
       "      <td>master's degree</td>\n",
       "      <td>-1.292308</td>\n",
       "      <td>-4.352564</td>\n",
       "      <td>-6.689744</td>\n",
       "    </tr>\n",
       "    <tr>\n",
       "      <th>3</th>\n",
       "      <td>associate's degree</td>\n",
       "      <td>-6.257840</td>\n",
       "      <td>-8.313589</td>\n",
       "      <td>-10.974216</td>\n",
       "    </tr>\n",
       "    <tr>\n",
       "      <th>4</th>\n",
       "      <td>high school</td>\n",
       "      <td>-4.007143</td>\n",
       "      <td>-4.389286</td>\n",
       "      <td>-7.846429</td>\n",
       "    </tr>\n",
       "    <tr>\n",
       "      <th>5</th>\n",
       "      <td>some high school</td>\n",
       "      <td>-5.622867</td>\n",
       "      <td>-7.036287</td>\n",
       "      <td>-9.608734</td>\n",
       "    </tr>\n",
       "  </tbody>\n",
       "</table>\n",
       "</div>"
      ],
      "text/plain": [
       "  parent_education_level      math   reading    writing\n",
       "0      bachelor's degree -6.379831 -6.128019  -8.709541\n",
       "1           some college -6.561928 -9.899765 -11.646997\n",
       "2        master's degree -1.292308 -4.352564  -6.689744\n",
       "3     associate's degree -6.257840 -8.313589 -10.974216\n",
       "4            high school -4.007143 -4.389286  -7.846429\n",
       "5       some high school -5.622867 -7.036287  -9.608734"
      ]
     },
     "execution_count": 10,
     "metadata": {},
     "output_type": "execute_result"
    }
   ],
   "source": [
    "#create a dataframe to calculate difference in math,reading and writing in each category\n",
    "\n",
    "#get the educational name\n",
    "col_name = df.parent_education_level.unique()\n",
    "\n",
    "#loop through each educational name, and find the difference between test_prep_course with list comphrehensive\n",
    "avg_diff = [parent_education_lvl.loc[i].diff().dropna() for i in col_name]\n",
    "\n",
    "#concat a list of dataframe into on dataframe,reset index and rename the column\n",
    "avg_diff= pd.concat(avg_diff).reset_index().rename(columns={\"test_prep_course\":\"parent_education_level\"})\n",
    "\n",
    "#set the renamed column into col_name\n",
    "avg_diff[\"parent_education_level\"] = col_name\n",
    "\n",
    "avg_diff"
   ]
  },
  {
   "cell_type": "markdown",
   "id": "d0d90273-f9da-4187-87a6-b2f52a291659",
   "metadata": {},
   "source": [
    "The above table shows students' average scores with/without test preparation in math, reading, and writing with different parents' educational backgrounds. The reason why the \" value is negative is due to none test_prep_course - completed test_prep. Let's do some data visualization."
   ]
  },
  {
   "cell_type": "code",
   "execution_count": 11,
   "id": "546e69f0-9897-4f33-8762-162b7faea7cb",
   "metadata": {},
   "outputs": [
    {
     "data": {
      "image/png": "[encoded data removed]",
      "text/plain": [
       "<Figure size 1008x360 with 1 Axes>"
      ]
     },
     "metadata": {
      "needs_background": "light"
     },
     "output_type": "display_data"
    }
   ],
   "source": [
    "# reset parent_education_lvl index\n",
    "parent_education_lvl = parent_education_lvl.reset_index()\n",
    "\n",
    "#bar plot on average math based on parent_education_level and test_prep_course\n",
    "plt.figure(figsize=(14,5))\n",
    "ax = sns.barplot(data = parent_education_lvl, x =\"math\", y = \"parent_education_level\", hue=\"test_prep_course\")\n",
    "plt.title(\"Avergae math score based on parental education level and test preparation\")\n",
    "plt.show()"
   ]
  },
  {
   "cell_type": "code",
   "execution_count": 12,
   "id": "e7e564a2-de0b-4319-91c1-7796224c6eec",
   "metadata": {},
   "outputs": [
    {
     "data": {
      "image/png": "[encoded data removed]",
      "text/plain": [
       "<Figure size 1008x360 with 1 Axes>"
      ]
     },
     "metadata": {
      "needs_background": "light"
     },
     "output_type": "display_data"
    }
   ],
   "source": [
    "#bar plot on average reading based on parent_education_level and test_prep_course\n",
    "plt.figure(figsize=(14,5))\n",
    "ax = sns.barplot(data = parent_education_lvl, x =\"reading\", y = \"parent_education_level\", hue=\"test_prep_course\")\n",
    "plt.title(\"Avergae reading score based on parental education level and test preparation\")\n",
    "plt.show()"
   ]
  },
  {
   "cell_type": "code",
   "execution_count": 13,
   "id": "1be78342-d0a6-4aa8-96e1-29d8503c98f6",
   "metadata": {},
   "outputs": [
    {
     "data": {
      "image/png": "[encoded data removed]",
      "text/plain": [
       "<Figure size 1008x360 with 1 Axes>"
      ]
     },
     "metadata": {
      "needs_background": "light"
     },
     "output_type": "display_data"
    }
   ],
   "source": [
    "#bar plot on average writing based on parent_education_level and test_prep_course\n",
    "plt.figure(figsize=(14,5))\n",
    "ax = sns.barplot(data = parent_education_lvl, x =\"writing\", y = \"parent_education_level\", hue=\"test_prep_course\")\n",
    "plt.title(\"Average writing score based on parental education level and test preparation\")\n",
    "plt.show()"
   ]
  },
  {
   "cell_type": "markdown",
   "id": "571ea887-25a3-42bf-8560-ccaef2c2ff17",
   "metadata": {},
   "source": [
    "All three plots have general patterns that students have parents with higher education, students tend to have a higher average score in math, reading, and writing with test preparations than students who do not prepare for tests in these three categories. Similarly, students' parents with higher education, students have better average scores with/without test preparations.\n",
    "\n",
    "Students' parents have a master's degree, it leads to students have the highest average scores in writing and reading with/without test preparations. Surprisingly, the highest average score in math falls among students' parents who have a bachelor's degree with test preparations. For without test preparations, it is still in parents have a master's degree."
   ]
  },
  {
   "cell_type": "markdown",
   "id": "0d047f0c-0b5f-405c-b81f-3575317904fb",
   "metadata": {},
   "source": [
    "### Since the school principle is interested in correlation between subjects if a kid have good scores. Let's assume that good scores are at least 90 in scale of 100 for all 3 subjects."
   ]
  },
  {
   "cell_type": "code",
   "execution_count": 14,
   "id": "31cbad68-ec67-4096-b887-c044d373fa12",
   "metadata": {},
   "outputs": [
    {
     "data": {
      "application/com.datacamp.data-table.v1+json": {
       "is_truncated": false,
       "table": {
        "data": [
         {
          "index": "math",
          "math": 1,
          "reading": 0.1444891201,
          "writing": 0.290564511
         },
         {
          "index": "reading",
          "math": 0.1444891201,
          "reading": 1,
          "writing": 0.7602274837
         },
         {
          "index": "writing",
          "math": 0.290564511,
          "reading": 0.7602274837,
          "writing": 1
         }
        ],
        "schema": {
         "fields": [
          {
           "name": "index",
           "type": "string"
          },
          {
           "name": "math",
           "type": "number"
          },
          {
           "name": "reading",
           "type": "number"
          },
          {
           "name": "writing",
           "type": "number"
          }
         ],
         "pandas_version": "0.20.0",
         "primaryKey": [
          "index"
         ]
        }
       },
       "total_rows": 3
      },
      "text/html": [
       "<div>\n",
       "<style scoped>\n",
       "    .dataframe tbody tr th:only-of-type {\n",
       "        vertical-align: middle;\n",
       "    }\n",
       "\n",
       "    .dataframe tbody tr th {\n",
       "        vertical-align: top;\n",
       "    }\n",
       "\n",
       "    .dataframe thead th {\n",
       "        text-align: right;\n",
       "    }\n",
       "</style>\n",
       "<table border=\"1\" class=\"dataframe\">\n",
       "  <thead>\n",
       "    <tr style=\"text-align: right;\">\n",
       "      <th></th>\n",
       "      <th>math</th>\n",
       "      <th>reading</th>\n",
       "      <th>writing</th>\n",
       "    </tr>\n",
       "  </thead>\n",
       "  <tbody>\n",
       "    <tr>\n",
       "      <th>math</th>\n",
       "      <td>1.000000</td>\n",
       "      <td>0.144489</td>\n",
       "      <td>0.290565</td>\n",
       "    </tr>\n",
       "    <tr>\n",
       "      <th>reading</th>\n",
       "      <td>0.144489</td>\n",
       "      <td>1.000000</td>\n",
       "      <td>0.760227</td>\n",
       "    </tr>\n",
       "    <tr>\n",
       "      <th>writing</th>\n",
       "      <td>0.290565</td>\n",
       "      <td>0.760227</td>\n",
       "      <td>1.000000</td>\n",
       "    </tr>\n",
       "  </tbody>\n",
       "</table>\n",
       "</div>"
      ],
      "text/plain": [
       "             math   reading   writing\n",
       "math     1.000000  0.144489  0.290565\n",
       "reading  0.144489  1.000000  0.760227\n",
       "writing  0.290565  0.760227  1.000000"
      ]
     },
     "execution_count": 14,
     "metadata": {},
     "output_type": "execute_result"
    }
   ],
   "source": [
    "# finding students whose math, reading and writing is greater than 90 \n",
    "top_scores = df[(df.math >= 90) & (df.reading >= 90) & (df.writing >= 90)]\n",
    "\n",
    "# got the correlation in top scores df\n",
    "top_scores.corr()"
   ]
  },
  {
   "cell_type": "code",
   "execution_count": 15,
   "id": "f1c604b1-0bbc-408e-b2bf-d2983c2d49ed",
   "metadata": {},
   "outputs": [
    {
     "data": {
      "text/plain": [
       "(28, 8)"
      ]
     },
     "execution_count": 15,
     "metadata": {},
     "output_type": "execute_result"
    }
   ],
   "source": [
    "top_scores.shape"
   ]
  },
  {
   "cell_type": "markdown",
   "id": "a49a53cb-5fb4-4af1-989a-fa6bed978cb0",
   "metadata": {},
   "source": [
    "The extracted sample size is only 28 out of 1000, which is less than 3% of the given datasets. For students who are good at math, it does not have a strong implication that has good performance in reading and writing based on top_scores correlation table. However, if students have good scores in reading, they tend to have better scores in writing as well.  "
   ]
  },
  {
   "cell_type": "markdown",
   "id": "b5487486-3151-425b-9917-d1bcdb4d1692",
   "metadata": {},
   "source": [
    "### To sum up all of the above, the conclusion drives on the followings:\n",
    "1. Preparation for tests has a significant impact on scores based on average reading scores.\n",
    "\n",
    "2. Parents' educational backgrounds somehow have some impact on students' average scores in math, reading, and writing. Students' parents have a better education level, and students tend to have better performance in math, reading, and writing with/without test preparation in average.\n",
    "\n",
    "3. Math does not have a significant connection between reading and writing for students who have all 3 scores of at least 90. However, better readings will come out with better writing since the correlation between these two categories is 0.76."
   ]
  }
 ],
 "metadata": {
  "kernelspec": {
   "display_name": "Python 3 (ipykernel)",
   "language": "python",
   "name": "python3"
  },
  "language_info": {
   "codemirror_mode": {
    "name": "ipython",
    "version": 3
   },
   "file_extension": ".py",
   "mimetype": "text/x-python",
   "name": "python",
   "nbconvert_exporter": "python",
   "pygments_lexer": "ipython3",
   "version": "3.8.10"
  }
 },
 "nbformat": 4,
 "nbformat_minor": 5
}

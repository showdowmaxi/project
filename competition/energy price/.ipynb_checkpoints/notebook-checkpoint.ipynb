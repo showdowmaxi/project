{
 "cells": [
  {
   "cell_type": "markdown",
   "id": "9a9ada08-c9f0-466f-91a0-265fa539f9f5",
   "metadata": {
    "tags": []
   },
   "source": [
    "# Understanding the local electricity market\n",
    "\n",
    "## 📖 Background\n",
    "You work for an energy company in Australia. Your company builds solar panel arrays and then sells the energy they produce to industrial customers. The company wants to expand to the city of Melbourne in the state of Victoria. \n",
    "\n",
    "Prices and demand for electricity change every day. Customers pay for the energy received using a formula based on the local energy market's daily price.\n",
    "\n",
    "Your company's pricing committee wants your team to estimate energy prices for the next 12-18 months to use those prices as the basis for contract negotiations.\n",
    "\n",
    "In addition, the VP of strategy is researching investing in storage capacity (i.e., batteries) as a new source of revenue. The plan is to store some of the energy produced by the solar panels when pricing conditions are unfavorable and sell it by the next day on the open market if the prices are higher."
   ]
  },
  {
   "cell_type": "markdown",
   "id": "10dcc269-3659-4851-99cd-f1ffb7f818aa",
   "metadata": {
    "tags": []
   },
   "source": [
    "## 💾 The data\n",
    "You have access to over five years of energy price and demand data ([source](https://www.kaggle.com/aramacus/electricity-demand-in-victoria-australia)):\n",
    "\n",
    "- \"date\" - from January 1, 2015, to October 6, 2020.\n",
    "- \"demand\" - daily electricity demand in MWh.\n",
    "- \"price\" - recommended retail price in AUD/MWh.\n",
    "- \"demand_pos_price\" - total daily demand at a positive price in MWh.\n",
    "- \"price_positive\" - average positive price, weighted by the corresponding intraday demand in AUD/MWh.\n",
    "- \"demand_neg_price\" - total daily demand at a negative price in MWh.\n",
    "- \"price_negative\" - average negative price, weighted by the corresponding intraday demand in AUD/MWh.\n",
    "- \"frac_neg_price\" - the fraction of the day when the demand traded at a negative price.\n",
    "- \"min_temperature\" - minimum temperature during the day in Celsius.\n",
    "- \"max_temperature\" - maximum temperature during the day in Celsius.\n",
    "- \"solar_exposure\" - total daily sunlight energy in MJ/m^2.\n",
    "- \"rainfall\" - daily rainfall in mm.\n",
    "- \"school_day\" - \"Y\" if that day was a school day, \"N\" otherwise.\n",
    "- \"holiday\" - \"Y\" if the day was a state or national holiday, \"N\" otherwise.\n",
    "\n",
    "Note: The price was negative during some intraday intervals, so energy producers were paying buyers rather than vice-versa."
   ]
  },
  {
   "cell_type": "markdown",
   "id": "82248224",
   "metadata": {},
   "source": [
    "## 💪 Competition challenge\n",
    "\n",
    "Create a report that covers the following:\n",
    "\n",
    "1. How do energy prices change throughout the year? Are there any patterns by season or month of the year?\n",
    "2. Build a forecast of daily energy prices the company can use as the basis of its financial planning.\n",
    "3. Provide guidance on how much revenue the energy storage venture could generate per year using retail prices and a 70MWh storage system."
   ]
  },
  {
   "cell_type": "code",
   "execution_count": 1,
   "id": "b92417ea",
   "metadata": {},
   "outputs": [],
   "source": [
    "import pandas as pd\n",
    "import numpy as np\n",
    "import seaborn as sns\n",
    "import matplotlib.pyplot as plt\n",
    "from datetime import datetime as dt"
   ]
  },
  {
   "cell_type": "code",
   "execution_count": 2,
   "id": "40251159-3eea-47f8-bfb4-09e38d5ced65",
   "metadata": {},
   "outputs": [
    {
     "data": {
      "text/html": [
       "<div>\n",
       "<style scoped>\n",
       "    .dataframe tbody tr th:only-of-type {\n",
       "        vertical-align: middle;\n",
       "    }\n",
       "\n",
       "    .dataframe tbody tr th {\n",
       "        vertical-align: top;\n",
       "    }\n",
       "\n",
       "    .dataframe thead th {\n",
       "        text-align: right;\n",
       "    }\n",
       "</style>\n",
       "<table border=\"1\" class=\"dataframe\">\n",
       "  <thead>\n",
       "    <tr style=\"text-align: right;\">\n",
       "      <th></th>\n",
       "      <th>demand</th>\n",
       "      <th>price</th>\n",
       "      <th>demand_pos_price</th>\n",
       "      <th>price_positive</th>\n",
       "      <th>demand_neg_price</th>\n",
       "      <th>price_negative</th>\n",
       "      <th>frac_neg_price</th>\n",
       "      <th>min_temperature</th>\n",
       "      <th>max_temperature</th>\n",
       "      <th>solar_exposure</th>\n",
       "      <th>rainfall</th>\n",
       "      <th>school_day</th>\n",
       "      <th>holiday</th>\n",
       "    </tr>\n",
       "    <tr>\n",
       "      <th>date</th>\n",
       "      <th></th>\n",
       "      <th></th>\n",
       "      <th></th>\n",
       "      <th></th>\n",
       "      <th></th>\n",
       "      <th></th>\n",
       "      <th></th>\n",
       "      <th></th>\n",
       "      <th></th>\n",
       "      <th></th>\n",
       "      <th></th>\n",
       "      <th></th>\n",
       "      <th></th>\n",
       "    </tr>\n",
       "  </thead>\n",
       "  <tbody>\n",
       "    <tr>\n",
       "      <th>2015-01-01</th>\n",
       "      <td>99635.030</td>\n",
       "      <td>25.633696</td>\n",
       "      <td>97319.240</td>\n",
       "      <td>26.415953</td>\n",
       "      <td>2315.790</td>\n",
       "      <td>-7.240000</td>\n",
       "      <td>0.020833</td>\n",
       "      <td>13.3</td>\n",
       "      <td>26.9</td>\n",
       "      <td>23.6</td>\n",
       "      <td>0.0</td>\n",
       "      <td>N</td>\n",
       "      <td>Y</td>\n",
       "    </tr>\n",
       "    <tr>\n",
       "      <th>2015-01-02</th>\n",
       "      <td>129606.010</td>\n",
       "      <td>33.138988</td>\n",
       "      <td>121082.015</td>\n",
       "      <td>38.837661</td>\n",
       "      <td>8523.995</td>\n",
       "      <td>-47.809777</td>\n",
       "      <td>0.062500</td>\n",
       "      <td>15.4</td>\n",
       "      <td>38.8</td>\n",
       "      <td>26.8</td>\n",
       "      <td>0.0</td>\n",
       "      <td>N</td>\n",
       "      <td>N</td>\n",
       "    </tr>\n",
       "    <tr>\n",
       "      <th>2015-01-03</th>\n",
       "      <td>142300.540</td>\n",
       "      <td>34.564855</td>\n",
       "      <td>142300.540</td>\n",
       "      <td>34.564855</td>\n",
       "      <td>0.000</td>\n",
       "      <td>0.000000</td>\n",
       "      <td>0.000000</td>\n",
       "      <td>20.0</td>\n",
       "      <td>38.2</td>\n",
       "      <td>26.5</td>\n",
       "      <td>0.0</td>\n",
       "      <td>N</td>\n",
       "      <td>N</td>\n",
       "    </tr>\n",
       "    <tr>\n",
       "      <th>2015-01-04</th>\n",
       "      <td>104330.715</td>\n",
       "      <td>25.005560</td>\n",
       "      <td>104330.715</td>\n",
       "      <td>25.005560</td>\n",
       "      <td>0.000</td>\n",
       "      <td>0.000000</td>\n",
       "      <td>0.000000</td>\n",
       "      <td>16.3</td>\n",
       "      <td>21.4</td>\n",
       "      <td>25.2</td>\n",
       "      <td>4.2</td>\n",
       "      <td>N</td>\n",
       "      <td>N</td>\n",
       "    </tr>\n",
       "    <tr>\n",
       "      <th>2015-01-05</th>\n",
       "      <td>118132.200</td>\n",
       "      <td>26.724176</td>\n",
       "      <td>118132.200</td>\n",
       "      <td>26.724176</td>\n",
       "      <td>0.000</td>\n",
       "      <td>0.000000</td>\n",
       "      <td>0.000000</td>\n",
       "      <td>15.0</td>\n",
       "      <td>22.0</td>\n",
       "      <td>30.7</td>\n",
       "      <td>0.0</td>\n",
       "      <td>N</td>\n",
       "      <td>N</td>\n",
       "    </tr>\n",
       "  </tbody>\n",
       "</table>\n",
       "</div>"
      ],
      "text/plain": [
       "                demand      price  demand_pos_price  price_positive  \\\n",
       "date                                                                  \n",
       "2015-01-01   99635.030  25.633696         97319.240       26.415953   \n",
       "2015-01-02  129606.010  33.138988        121082.015       38.837661   \n",
       "2015-01-03  142300.540  34.564855        142300.540       34.564855   \n",
       "2015-01-04  104330.715  25.005560        104330.715       25.005560   \n",
       "2015-01-05  118132.200  26.724176        118132.200       26.724176   \n",
       "\n",
       "            demand_neg_price  price_negative  frac_neg_price  min_temperature  \\\n",
       "date                                                                            \n",
       "2015-01-01          2315.790       -7.240000        0.020833             13.3   \n",
       "2015-01-02          8523.995      -47.809777        0.062500             15.4   \n",
       "2015-01-03             0.000        0.000000        0.000000             20.0   \n",
       "2015-01-04             0.000        0.000000        0.000000             16.3   \n",
       "2015-01-05             0.000        0.000000        0.000000             15.0   \n",
       "\n",
       "            max_temperature  solar_exposure  rainfall school_day holiday  \n",
       "date                                                                      \n",
       "2015-01-01             26.9            23.6       0.0          N       Y  \n",
       "2015-01-02             38.8            26.8       0.0          N       N  \n",
       "2015-01-03             38.2            26.5       0.0          N       N  \n",
       "2015-01-04             21.4            25.2       4.2          N       N  \n",
       "2015-01-05             22.0            30.7       0.0          N       N  "
      ]
     },
     "execution_count": 2,
     "metadata": {},
     "output_type": "execute_result"
    }
   ],
   "source": [
    "df = pd.read_csv('./data/energy_demand.csv', parse_dates=['date'], index_col=['date'])\n",
    "df.head()"
   ]
  },
  {
   "cell_type": "code",
   "execution_count": 3,
   "id": "385fbf62",
   "metadata": {},
   "outputs": [
    {
     "data": {
      "text/html": [
       "<div>\n",
       "<style scoped>\n",
       "    .dataframe tbody tr th:only-of-type {\n",
       "        vertical-align: middle;\n",
       "    }\n",
       "\n",
       "    .dataframe tbody tr th {\n",
       "        vertical-align: top;\n",
       "    }\n",
       "\n",
       "    .dataframe thead th {\n",
       "        text-align: right;\n",
       "    }\n",
       "</style>\n",
       "<table border=\"1\" class=\"dataframe\">\n",
       "  <thead>\n",
       "    <tr style=\"text-align: right;\">\n",
       "      <th></th>\n",
       "      <th>demand</th>\n",
       "      <th>price</th>\n",
       "      <th>demand_pos_price</th>\n",
       "      <th>price_positive</th>\n",
       "      <th>demand_neg_price</th>\n",
       "      <th>price_negative</th>\n",
       "      <th>frac_neg_price</th>\n",
       "      <th>min_temperature</th>\n",
       "      <th>max_temperature</th>\n",
       "      <th>solar_exposure</th>\n",
       "      <th>rainfall</th>\n",
       "      <th>school_day</th>\n",
       "      <th>holiday</th>\n",
       "    </tr>\n",
       "    <tr>\n",
       "      <th>date</th>\n",
       "      <th></th>\n",
       "      <th></th>\n",
       "      <th></th>\n",
       "      <th></th>\n",
       "      <th></th>\n",
       "      <th></th>\n",
       "      <th></th>\n",
       "      <th></th>\n",
       "      <th></th>\n",
       "      <th></th>\n",
       "      <th></th>\n",
       "      <th></th>\n",
       "      <th></th>\n",
       "    </tr>\n",
       "  </thead>\n",
       "  <tbody>\n",
       "    <tr>\n",
       "      <th>2020-10-02</th>\n",
       "      <td>99585.835</td>\n",
       "      <td>-6.076028</td>\n",
       "      <td>41988.240</td>\n",
       "      <td>26.980251</td>\n",
       "      <td>57597.595</td>\n",
       "      <td>-30.173823</td>\n",
       "      <td>0.625000</td>\n",
       "      <td>12.8</td>\n",
       "      <td>26.0</td>\n",
       "      <td>22.0</td>\n",
       "      <td>0.0</td>\n",
       "      <td>N</td>\n",
       "      <td>N</td>\n",
       "    </tr>\n",
       "    <tr>\n",
       "      <th>2020-10-03</th>\n",
       "      <td>92277.025</td>\n",
       "      <td>-1.983471</td>\n",
       "      <td>44133.510</td>\n",
       "      <td>32.438156</td>\n",
       "      <td>48143.515</td>\n",
       "      <td>-33.538025</td>\n",
       "      <td>0.583333</td>\n",
       "      <td>17.4</td>\n",
       "      <td>29.4</td>\n",
       "      <td>19.8</td>\n",
       "      <td>0.0</td>\n",
       "      <td>N</td>\n",
       "      <td>N</td>\n",
       "    </tr>\n",
       "    <tr>\n",
       "      <th>2020-10-04</th>\n",
       "      <td>94081.565</td>\n",
       "      <td>25.008614</td>\n",
       "      <td>88580.995</td>\n",
       "      <td>26.571687</td>\n",
       "      <td>5500.570</td>\n",
       "      <td>-0.163066</td>\n",
       "      <td>0.062500</td>\n",
       "      <td>13.5</td>\n",
       "      <td>29.5</td>\n",
       "      <td>8.4</td>\n",
       "      <td>0.0</td>\n",
       "      <td>N</td>\n",
       "      <td>N</td>\n",
       "    </tr>\n",
       "    <tr>\n",
       "      <th>2020-10-05</th>\n",
       "      <td>113610.030</td>\n",
       "      <td>36.764701</td>\n",
       "      <td>106587.375</td>\n",
       "      <td>39.616015</td>\n",
       "      <td>7022.655</td>\n",
       "      <td>-6.511550</td>\n",
       "      <td>0.083333</td>\n",
       "      <td>9.1</td>\n",
       "      <td>12.7</td>\n",
       "      <td>7.3</td>\n",
       "      <td>12.8</td>\n",
       "      <td>N</td>\n",
       "      <td>N</td>\n",
       "    </tr>\n",
       "    <tr>\n",
       "      <th>2020-10-06</th>\n",
       "      <td>122607.560</td>\n",
       "      <td>75.771059</td>\n",
       "      <td>122607.560</td>\n",
       "      <td>75.771059</td>\n",
       "      <td>0.000</td>\n",
       "      <td>0.000000</td>\n",
       "      <td>0.000000</td>\n",
       "      <td>8.9</td>\n",
       "      <td>12.6</td>\n",
       "      <td>5.8</td>\n",
       "      <td>1.0</td>\n",
       "      <td>N</td>\n",
       "      <td>N</td>\n",
       "    </tr>\n",
       "  </tbody>\n",
       "</table>\n",
       "</div>"
      ],
      "text/plain": [
       "                demand      price  demand_pos_price  price_positive  \\\n",
       "date                                                                  \n",
       "2020-10-02   99585.835  -6.076028         41988.240       26.980251   \n",
       "2020-10-03   92277.025  -1.983471         44133.510       32.438156   \n",
       "2020-10-04   94081.565  25.008614         88580.995       26.571687   \n",
       "2020-10-05  113610.030  36.764701        106587.375       39.616015   \n",
       "2020-10-06  122607.560  75.771059        122607.560       75.771059   \n",
       "\n",
       "            demand_neg_price  price_negative  frac_neg_price  min_temperature  \\\n",
       "date                                                                            \n",
       "2020-10-02         57597.595      -30.173823        0.625000             12.8   \n",
       "2020-10-03         48143.515      -33.538025        0.583333             17.4   \n",
       "2020-10-04          5500.570       -0.163066        0.062500             13.5   \n",
       "2020-10-05          7022.655       -6.511550        0.083333              9.1   \n",
       "2020-10-06             0.000        0.000000        0.000000              8.9   \n",
       "\n",
       "            max_temperature  solar_exposure  rainfall school_day holiday  \n",
       "date                                                                      \n",
       "2020-10-02             26.0            22.0       0.0          N       N  \n",
       "2020-10-03             29.4            19.8       0.0          N       N  \n",
       "2020-10-04             29.5             8.4       0.0          N       N  \n",
       "2020-10-05             12.7             7.3      12.8          N       N  \n",
       "2020-10-06             12.6             5.8       1.0          N       N  "
      ]
     },
     "execution_count": 3,
     "metadata": {},
     "output_type": "execute_result"
    }
   ],
   "source": [
    "df.tail()"
   ]
  },
  {
   "cell_type": "markdown",
   "id": "c7b2f848",
   "metadata": {},
   "source": [
    "### Observations:\n",
    "The dataset does not have the entire year of 2020 data. It only has data up to *Oct 6th, 2020*\n",
    "\n",
    "There are two general cases that depends on demand_neg_price:\n",
    "\n",
    "When demand_neg_price is zero:\n",
    "\n",
    "     Price(Retail) = Price Positive, demand = demand_pos_price\n",
    "     \n",
    "When demand_neg_price is no zero:\n",
    "     \n",
    "     demand = demand_pos_price + demand_neg_price\n",
    "     price_neagtive = (df.demand * df.price - df.price_positive * df.demand_pos_price)/ df.demand_neg_price\n",
    "\n",
    "In other words, when the supply exceed demand, it causes the negative price occure on the exceeding parts.\n",
    "\n",
    "Let us calculate what is the percentage of with/without demand_neg_price over the entire dataset to evalute observations"
   ]
  },
  {
   "cell_type": "code",
   "execution_count": 4,
   "id": "c20ed628",
   "metadata": {},
   "outputs": [
    {
     "name": "stdout",
     "output_type": "stream",
     "text": [
      "The percentage of demand equals to demand positive on the entire dateset: 0.91, it has size of 1915.\n",
      "The percentage of demand does not equal to demand positive on the entire dateset: 0.09, it has size of 191.\n"
     ]
    }
   ],
   "source": [
    "#get the size as price matches price positive\n",
    "s_p = df[df.price == df.price_positive].shape[0]\n",
    "\n",
    "#get the size as price does not match price positive\n",
    "s_n = df[df.price != df.price_positive]\n",
    "\n",
    "print(\"The percentage of demand equals to demand positive on the entire dateset: {:.2f}, it has size of {}.\".format(s_p/df.shape[0], s_p))\n",
    "print(\"The percentage of demand does not equal to demand positive on the entire dateset: {:.2f}, it has size of {}.\".format(s_n.shape[0]/df.shape[0], s_n.shape[0]))"
   ]
  },
  {
   "cell_type": "markdown",
   "id": "0061f59f",
   "metadata": {},
   "source": [
    "Let us check on our observation when demand_neg_price is no zero\n",
    "\n",
    "1. demand = demand_pos_price + demand_neg_price"
   ]
  },
  {
   "cell_type": "code",
   "execution_count": 5,
   "id": "2f82bf9e",
   "metadata": {},
   "outputs": [
    {
     "data": {
      "text/plain": [
       "False    103\n",
       "True      88\n",
       "dtype: int64"
      ]
     },
     "execution_count": 5,
     "metadata": {},
     "output_type": "execute_result"
    }
   ],
   "source": [
    "(s_n.demand == (s_n.demand_neg_price + s_n.demand_pos_price)).value_counts()"
   ]
  },
  {
   "cell_type": "markdown",
   "id": "b0456b42",
   "metadata": {},
   "source": [
    "2. price_neagtive = (df.demand * df.price - df.price_positive * df.demand_pos_price)/ df.demand_neg_price"
   ]
  },
  {
   "cell_type": "code",
   "execution_count": 6,
   "id": "07b06085",
   "metadata": {},
   "outputs": [
    {
     "data": {
      "text/plain": [
       "False    151\n",
       "True      40\n",
       "dtype: int64"
      ]
     },
     "execution_count": 6,
     "metadata": {},
     "output_type": "execute_result"
    }
   ],
   "source": [
    "(s_n.demand * s_n.price == (s_n.demand_neg_price * s_n.price_negative + s_n.demand_pos_price * s_n.price_positive)).value_counts()"
   ]
  },
  {
   "cell_type": "markdown",
   "id": "d982fecf",
   "metadata": {},
   "source": [
    "Surprisingly, the observation of non-zero negative prices is partially correct from the given dataset.\n",
    "\n",
    "There are 88 out of 191 are correct for the first observation whereas 40 out of 191 are correct for the second observation. \n",
    "\n",
    "We are not sure yet how many of them satisfied both observations. This may lead us to model selections later.\n",
    "\n",
    "It is interesting that we see that price has negative sign shown on the last 5 rows of data. Negaive sign on the price, which means the supplier pay for the payer to purchase or subsidize. \n",
    "\n",
    "Let us check how many of them which price negative in the dataset and follow our observation on demand_neg_price to check on price."
   ]
  },
  {
   "cell_type": "code",
   "execution_count": 7,
   "id": "60f8d5fc",
   "metadata": {},
   "outputs": [
    {
     "data": {
      "text/plain": [
       "3"
      ]
     },
     "execution_count": 7,
     "metadata": {},
     "output_type": "execute_result"
    }
   ],
   "source": [
    "# negative sign on price\n",
    "df_n = df[df.price < 0]\n",
    "df_n.shape[0]"
   ]
  },
  {
   "cell_type": "markdown",
   "id": "6d39e680",
   "metadata": {},
   "source": [
    "There is only 3 of sample in the entire dataset that has negative price.\n",
    "From earlier calculation on percentage of binary cases of demand_negative_price, the supply exceeds the demand on electricity is less than 10% over past 5 years from 2015 to 2020. So what causes this 10% of dataset occures?\n",
    "\n",
    "Let's check the entire dateset by doing Exploratory Data Analysis"
   ]
  },
  {
   "cell_type": "code",
   "execution_count": 8,
   "id": "b2a471b0-4894-446f-b72d-e0da1455e8bd",
   "metadata": {},
   "outputs": [
    {
     "name": "stdout",
     "output_type": "stream",
     "text": [
      "<class 'pandas.core.frame.DataFrame'>\n",
      "DatetimeIndex: 2106 entries, 2015-01-01 to 2020-10-06\n",
      "Data columns (total 13 columns):\n",
      " #   Column            Non-Null Count  Dtype  \n",
      "---  ------            --------------  -----  \n",
      " 0   demand            2106 non-null   float64\n",
      " 1   price             2106 non-null   float64\n",
      " 2   demand_pos_price  2106 non-null   float64\n",
      " 3   price_positive    2106 non-null   float64\n",
      " 4   demand_neg_price  2106 non-null   float64\n",
      " 5   price_negative    2106 non-null   float64\n",
      " 6   frac_neg_price    2106 non-null   float64\n",
      " 7   min_temperature   2106 non-null   float64\n",
      " 8   max_temperature   2106 non-null   float64\n",
      " 9   solar_exposure    2105 non-null   float64\n",
      " 10  rainfall          2103 non-null   float64\n",
      " 11  school_day        2106 non-null   object \n",
      " 12  holiday           2106 non-null   object \n",
      "dtypes: float64(11), object(2)\n",
      "memory usage: 230.3+ KB\n"
     ]
    }
   ],
   "source": [
    "df.info()"
   ]
  },
  {
   "cell_type": "code",
   "execution_count": 9,
   "id": "dccaad6e-a117-4b50-bfb7-91971d755ce8",
   "metadata": {},
   "outputs": [
    {
     "data": {
      "text/plain": [
       "demand              0\n",
       "price               0\n",
       "demand_pos_price    0\n",
       "price_positive      0\n",
       "demand_neg_price    0\n",
       "price_negative      0\n",
       "frac_neg_price      0\n",
       "min_temperature     0\n",
       "max_temperature     0\n",
       "solar_exposure      1\n",
       "rainfall            3\n",
       "school_day          0\n",
       "holiday             0\n",
       "dtype: int64"
      ]
     },
     "execution_count": 9,
     "metadata": {},
     "output_type": "execute_result"
    }
   ],
   "source": [
    "df.isnull().sum()"
   ]
  },
  {
   "cell_type": "code",
   "execution_count": 10,
   "id": "2d5a39f4",
   "metadata": {},
   "outputs": [
    {
     "data": {
      "text/plain": [
       "demand              0\n",
       "price               0\n",
       "demand_pos_price    0\n",
       "price_positive      0\n",
       "demand_neg_price    0\n",
       "price_negative      0\n",
       "frac_neg_price      0\n",
       "min_temperature     0\n",
       "max_temperature     0\n",
       "solar_exposure      0\n",
       "rainfall            0\n",
       "school_day          0\n",
       "holiday             0\n",
       "dtype: int64"
      ]
     },
     "execution_count": 10,
     "metadata": {},
     "output_type": "execute_result"
    }
   ],
   "source": [
    "# the missing value is small portion in the entire datesets, it is either 3 or 4, let us drop the missing value and see\n",
    "df = df.dropna()\n",
    "df.isnull().sum()"
   ]
  },
  {
   "cell_type": "code",
   "execution_count": 11,
   "id": "bae4ddc8",
   "metadata": {},
   "outputs": [],
   "source": [
    "#change school_day & holiday to binary, N->0, Y->1\n",
    "binary = {'N':0, \"Y\":1}\n",
    "\n",
    "#apply the binary dictionary into pandas\n",
    "df.school_day = df.school_day.apply(lambda x:binary[x])\n",
    "df.holiday = df.holiday.apply(lambda x:binary[x])"
   ]
  },
  {
   "cell_type": "code",
   "execution_count": 12,
   "id": "01f7e1f8",
   "metadata": {},
   "outputs": [],
   "source": [
    "#create a weekday column\n",
    "df['weekday'] = df.index.weekday"
   ]
  },
  {
   "cell_type": "markdown",
   "id": "56941602",
   "metadata": {},
   "source": [
    "We are interested in finding the patterns on the price through out a year. Let us get an average value on each feature in each month of a year and visualize them."
   ]
  },
  {
   "cell_type": "code",
   "execution_count": 14,
   "id": "300b192c",
   "metadata": {},
   "outputs": [
    {
     "data": {
      "image/png": "[encoded data removed]",
      "text/plain": [
       "<Figure size 1152x432 with 6 Axes>"
      ]
     },
     "metadata": {
      "needs_background": "light"
     },
     "output_type": "display_data"
    }
   ],
   "source": [
    "#groupby year and month to generate average value in each columns\n",
    "df_avg = df.groupby(pd.Grouper(freq='M')).mean()\n",
    "\n",
    "#get the unique year and convert to string for slicing\n",
    "year_list = [str(i) for i in np.unique(df_avg.index.year)]\n",
    "\n",
    "# create nrow and ncols for ploting\n",
    "nrows= 3\n",
    "ncols = len(year_list)//nrows\n",
    "plt.figure(figsize = (16,6))\n",
    "\n",
    "#plot each month demand of each year\n",
    "for indx, yr in enumerate(year_list):\n",
    "    ax = plt.subplot(nrows, ncols, indx + 1) \n",
    "    #get each year\n",
    "    df = df_avg[yr]\n",
    "    sns.barplot(ax= ax, data= df, x=df.index.month, y=\"demand\")\n",
    "    #set the demand in log scale since the value is big\n",
    "    ax.set_yscale(\"log\")\n",
    "    ax.set_title(yr + \" year average demand of each month\", fontsize=10)\n",
    "    \n",
    "\n",
    "plt.subplots_adjust(hspace=0.8)\n",
    "plt.show()"
   ]
  },
  {
   "cell_type": "markdown",
   "id": "97acdcfe",
   "metadata": {},
   "source": [
    "From average demand bar graphs of each month, there is an inceasing demanding on power consumption starts from April, reaches to its peak either June or Junly, then descreases.\n",
    "\n",
    "Before exploring further, here are some [season](https://www.australia.com/en-ca/facts-and-planning/weather-in-australia.html#:~:text=Australia's%20seasons%20are%20at%20opposite,September%20to%20November%20is%20spring.) information in Australia.\n",
    "   - Summer: Dec - Feb \n",
    "   - Fall: Mar - May\n",
    "   - Winter: June - Aug\n",
    "   - Spring: Sept - Nov\n",
    "    \n",
    "In terms of season, June - August, Winter, the cold season could be one of factors that increasing the usage on electricity. To have a clear understanding on seasonal demanding for electricity, let' plot average demands on electricity by the season in Australia. Since year 2020 does not have entire full dataset over the year, we check on 2016-2019 to discover the general patterns."
   ]
  },
  {
   "cell_type": "code",
   "execution_count": 15,
   "id": "fa91e9cc",
   "metadata": {},
   "outputs": [
    {
     "data": {
      "image/png": "[encoded data removed]",
      "text/plain": [
       "<Figure size 720x576 with 4 Axes>"
      ]
     },
     "metadata": {
      "needs_background": "light"
     },
     "output_type": "display_data"
    }
   ],
   "source": [
    "plt.figure(figsize = (10,8))\n",
    "season_n = [\"Summer\", \"Fall\", \"Winnter\", \"Spring\"]\n",
    "#get 2015 - 2019 monthly data based on Australia season\n",
    "df_avg_season = df_avg['2015-12':'2019-11']\n",
    "\n",
    "#plot each month demand of each year\n",
    "for indx, yr in enumerate(year_list[1:-1]):\n",
    "    ax = plt.subplot(nrows, ncols, indx + 1) \n",
    "    #get each year\n",
    "    df = df_avg[yr]\n",
    "    \n",
    "    #reset index, calculate the each season total average power demand over a year\n",
    "    df_season_avg = df.reset_index()[['demand']]\n",
    "    df_season_avg = df_season_avg.groupby(df_season_avg.index //3).sum()\n",
    "    \n",
    "    sns.barplot(ax= ax, data= df_season_avg, x=df_season_avg.index, y=\"demand\")\n",
    "    #set the demand in log scale since the value is big\n",
    "    ax.set_yscale(\"log\")\n",
    "    ax.set_title(yr + \" year average seansonal demand \", fontsize=10)\n",
    "    ax.set_xticklabels(season_n)\n",
    "\n",
    "plt.subplots_adjust(\n",
    "                    wspace= 0.8,\n",
    "                    hspace= 0.4)\n",
    "plt.show()"
   ]
  },
  {
   "cell_type": "markdown",
   "id": "3760d1f1",
   "metadata": {},
   "source": [
    "The average seasonal demanding of power in Australia from 2016 - 2019 shows a general patterns that the demand on power is getting higher after Spring and reach to the peak in Winter. Spring has the lowest power demanding over the a year. \n",
    "The weather of each season play significant role on the power needs. \n",
    "\n",
    "In general, when the demand is high, the price would go up and vice versa. Let us check if the price follows this pattern based on this from 2016 -2019 on Australia season."
   ]
  },
  {
   "cell_type": "markdown",
   "id": "efda8e32-5c7e-48cc-8bd6-83ad3ba72f6e",
   "metadata": {},
   "source": [
    "## 🧑‍⚖️ Judging criteria\n",
    "\n",
    "| CATEGORY | WEIGHTING | DETAILS                                                              |\n",
    "|:---------|:----------|:---------------------------------------------------------------------|\n",
    "| **Recommendations** | 35%       | <ul><li>Clarity of recommendations - how clear and well presented the recommendation is.</li><li>Quality of recommendations - are appropriate analytical techniques used & are the conclusions valid?</li><li>Number of relevant insights found for the target audience.</li></ul>       |\n",
    "| **Storytelling**  | 35%       | <ul><li>How well the data and insights are connected to the recommendation.</li><li>How the narrative and whole report connects together.</li><li>Balancing making the report in-depth enough but also concise.</li></ul> |\n",
    "| **Visualizations** | 20% | <ul><li>Appropriateness of visualization used.</li><li>Clarity of insight from visualization.</li></ul> |\n",
    "| **Votes** | 10% | <ul><li>Up voting - most upvoted entries get the most points.</li></ul> |"
   ]
  },
  {
   "cell_type": "markdown",
   "id": "7fa68a10-14d8-4db9-a473-9efdab8f2fbd",
   "metadata": {},
   "source": [
    "## ✅ Checklist before publishing into the competition\n",
    "- Rename your workspace to make it descriptive of your work. N.B. you should leave the notebook name as notebook.ipynb.\n",
    "- **Remove redundant cells** like the judging criteria, so the workbook is focused on your story.\n",
    "- Make sure the workbook reads well and explains how you found your insights. \n",
    "- Try to include an **executive summary** of your recommendations at the beginning.\n",
    "- Check that all the cells run without error."
   ]
  },
  {
   "cell_type": "markdown",
   "id": "3bef7acb-5b00-4282-8c3e-1aa34bf4b7df",
   "metadata": {},
   "source": [
    "## ⌛️ Time is ticking. Good luck!"
   ]
  },
  {
   "cell_type": "code",
   "execution_count": null,
   "id": "226b77bc-1823-4ba8-a1f9-e1c3f1420112",
   "metadata": {},
   "outputs": [],
   "source": []
  }
 ],
 "metadata": {
  "kernelspec": {
   "display_name": "Python 3",
   "language": "python",
   "name": "python3"
  },
  "language_info": {
   "codemirror_mode": {
    "name": "ipython",
    "version": 3
   },
   "file_extension": ".py",
   "mimetype": "text/x-python",
   "name": "python",
   "nbconvert_exporter": "python",
   "pygments_lexer": "ipython3",
   "version": "3.8.8"
  }
 },
 "nbformat": 4,
 "nbformat_minor": 5
}

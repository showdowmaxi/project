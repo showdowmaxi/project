{
 "cells": [
  {
   "cell_type": "markdown",
   "id": "7cfb9082-85f5-411c-8dd9-907ecd2e9a12",
   "metadata": {},
   "source": [
    "## 📖 Background\n",
    "You work at a specialty foods import company that wants to expand into gourmet chocolate bars. Your boss needs your team to research this market to inform your initial approach to potential suppliers.\n",
    "\n",
    "After finding valuable chocolate bar ratings online, you need to explore if the chocolate bars with the highest ratings share any characteristics that could help you narrow your search for suppliers (e.g., cacao percentage, bean country of origin, etc.)"
   ]
  },
  {
   "cell_type": "markdown",
   "id": "bb4cd736",
   "metadata": {},
   "source": [
    "## 💾 The data\n",
    "\n",
    "#### Your team created a file with the following information ([source](https://flavorsofcacao.com)):\n",
    "- \"id\" - id number of the review\n",
    "- \"manufacturer\" - Name of the bar manufacturer\n",
    "- \"company_location\" - Location of the manufacturer\n",
    "- \"year_reviewed\" - From 2006 to 2021\n",
    "- \"bean_origin\" - Country of origin of the cacao beans\n",
    "- \"bar_name\" - Name of the chocolate bar\n",
    "- \"cocoa_percent\" - Cocoa content of the bar (%)\n",
    "- \"num_ingredients\" - Number of ingredients\n",
    "- \"ingredients\" - B (Beans), S (Sugar), S* (Sweetener other than sugar or beet sugar), C (Cocoa Butter), (V) Vanilla, (L) Lecithin, (Sa) Salt\n",
    "- \"review\" - Summary of most memorable characteristics of the chocolate bar\n",
    "- \"rating\" - 1.0-1.9 Unpleasant, 2.0-2.9 Disappointing, 3.0-3.49 Recommended, 3.5-3.9 Highly Recommended, 4.0-5.0 Oustanding\n",
    "\n",
    "***Acknowledgments**: Brady Brelinski, Manhattan Chocolate Society*"
   ]
  },
  {
   "cell_type": "markdown",
   "id": "bc6227eb-5858-457b-a94e-04d6036bbba6",
   "metadata": {},
   "source": [
    "## 💪 Challenge\n",
    "Create a report to summarize your research. Include:\n",
    "\n",
    "1. What is the average rating by country of origin?\n",
    "2. How many bars were reviewed for each of those countries?\n",
    "3. Create plots to visualize findings for questions 1 and 2.\n",
    "4. Is the cacao bean's origin an indicator of quality? \n",
    "5. [Optional] How does cocoa content relate to rating? What is the average cocoa content for bars with higher ratings (above 3.5)?\n",
    "6. [Optional 2] Your research indicates that some consumers want to avoid bars with lecithin. Compare the average rating of bars with and without lecithin (L in the ingredients).\n",
    "7. Summarize your findings."
   ]
  },
  {
   "cell_type": "markdown",
   "id": "597cbd60-4bbf-4853-b5a7-9ee3e8a9e2c7",
   "metadata": {},
   "source": [
    "## Summarize\n",
    "1. There are 67 countries in the dataset. Around 75% of countries have an average rating of chocolate bars greater than 3.0. The top 5 average ratings of chocolate bars are from Chile, U.A.E, Poland, Vietnam, and Australia respectively.\n",
    "\n",
    "2. Each country making chocolate bars has different reviews, which depends on the number of manufacturers making cholocate bars in a country. The top 4 most viewed chocolate bars countries are the USA, Canada, France, UK, and Italy respectively. USA-made chocolate bars have over 1000 views whereas the rest of the top 3 countries fall in the range of 100 - 200 views. The rest of the countries have less than 100 views on their chocolate bars. \n",
    "\n",
    "4. The origin of the cacao bean is one of the indicators of quality after findings. The top 5 beans that have an average rating of less than 4.0 are from Venezuela, Peru, Ecuador, Dominican Republic, and Madagascar. Beans from these regions have the most manufacturers that make chocolate bars.\n",
    "\n",
    "5. The better rating on average chocolate bars based on bean origin tends to have a lower percentage of cocoa in a chocolate bar, which is around 70%.\n",
    "\n",
    "6. The average rating of bars with lecithin is 3.15 whereas the average rating of bars without lecithin is 3.23.\n",
    "\n",
    "To sum up, most companies that make chocolate bars are from the USA, which dominates the most ratings or the number of reviews in the entire dataset. Manufactures like the beans from Venezuela, Peru, Ecuador, Dominican Republic, and Madagascar. The chocolate bar depends on cocoa_percent, the number of ingredients. On average, the top-quality chocolate bars contains 70% cocoa and 3 types of ingredients"
   ]
  },
  {
   "cell_type": "code",
   "execution_count": 1,
   "id": "0071b4b3-75aa-4f25-97ee-9ba3aa64cc3d",
   "metadata": {},
   "outputs": [],
   "source": [
    "import pandas as pd\n",
    "import seaborn as sns\n",
    "import matplotlib.pyplot as plt\n",
    "from IPython.display import display"
   ]
  },
  {
   "cell_type": "code",
   "execution_count": 2,
   "id": "9e45e1f8",
   "metadata": {},
   "outputs": [
    {
     "data": {
      "application/com.datacamp.data-table.v1+json": {
       "is_truncated": false,
       "table": {
        "data": [
         {
          "bar_name": "Kokoa Kamili, batch 1",
          "bean_origin": "Tanzania",
          "cocoa_percent": 76,
          "company_location": "U.S.A.",
          "id": 2454,
          "index": 0,
          "ingredients": "B,S,C",
          "manufacturer": "5150",
          "num_ingredients": 3,
          "rating": 3.25,
          "review": "rich cocoa, fatty, bready",
          "year_reviewed": 2019
         },
         {
          "bar_name": "Zorzal, batch 1",
          "bean_origin": "Dominican Republic",
          "cocoa_percent": 76,
          "company_location": "U.S.A.",
          "id": 2458,
          "index": 1,
          "ingredients": "B,S,C",
          "manufacturer": "5150",
          "num_ingredients": 3,
          "rating": 3.5,
          "review": "cocoa, vegetal, savory",
          "year_reviewed": 2019
         },
         {
          "bar_name": "Bejofo Estate, batch 1",
          "bean_origin": "Madagascar",
          "cocoa_percent": 76,
          "company_location": "U.S.A.",
          "id": 2454,
          "index": 2,
          "ingredients": "B,S,C",
          "manufacturer": "5150",
          "num_ingredients": 3,
          "rating": 3.75,
          "review": "cocoa, blackberry, full body",
          "year_reviewed": 2019
         },
         {
          "bar_name": "Matasawalevu, batch 1",
          "bean_origin": "Fiji",
          "cocoa_percent": 68,
          "company_location": "U.S.A.",
          "id": 2542,
          "index": 3,
          "ingredients": "B,S,C",
          "manufacturer": "5150",
          "num_ingredients": 3,
          "rating": 3,
          "review": "chewy, off, rubbery",
          "year_reviewed": 2021
         },
         {
          "bar_name": "Sur del Lago, batch 1",
          "bean_origin": "Venezuela",
          "cocoa_percent": 72,
          "company_location": "U.S.A.",
          "id": 2546,
          "index": 4,
          "ingredients": "B,S,C",
          "manufacturer": "5150",
          "num_ingredients": 3,
          "rating": 3,
          "review": "fatty, earthy, moss, nutty,chalky",
          "year_reviewed": 2021
         }
        ],
        "schema": {
         "fields": [
          {
           "name": "index",
           "type": "integer"
          },
          {
           "name": "id",
           "type": "integer"
          },
          {
           "name": "manufacturer",
           "type": "string"
          },
          {
           "name": "company_location",
           "type": "string"
          },
          {
           "name": "year_reviewed",
           "type": "integer"
          },
          {
           "name": "bean_origin",
           "type": "string"
          },
          {
           "name": "bar_name",
           "type": "string"
          },
          {
           "name": "cocoa_percent",
           "type": "number"
          },
          {
           "name": "num_ingredients",
           "type": "number"
          },
          {
           "name": "ingredients",
           "type": "string"
          },
          {
           "name": "review",
           "type": "string"
          },
          {
           "name": "rating",
           "type": "number"
          }
         ],
         "pandas_version": "0.20.0",
         "primaryKey": [
          "index"
         ]
        }
       },
       "total_rows": 5
      },
      "text/html": [
       "<div>\n",
       "<style scoped>\n",
       "    .dataframe tbody tr th:only-of-type {\n",
       "        vertical-align: middle;\n",
       "    }\n",
       "\n",
       "    .dataframe tbody tr th {\n",
       "        vertical-align: top;\n",
       "    }\n",
       "\n",
       "    .dataframe thead th {\n",
       "        text-align: right;\n",
       "    }\n",
       "</style>\n",
       "<table border=\"1\" class=\"dataframe\">\n",
       "  <thead>\n",
       "    <tr style=\"text-align: right;\">\n",
       "      <th></th>\n",
       "      <th>id</th>\n",
       "      <th>manufacturer</th>\n",
       "      <th>company_location</th>\n",
       "      <th>year_reviewed</th>\n",
       "      <th>bean_origin</th>\n",
       "      <th>bar_name</th>\n",
       "      <th>cocoa_percent</th>\n",
       "      <th>num_ingredients</th>\n",
       "      <th>ingredients</th>\n",
       "      <th>review</th>\n",
       "      <th>rating</th>\n",
       "    </tr>\n",
       "  </thead>\n",
       "  <tbody>\n",
       "    <tr>\n",
       "      <th>0</th>\n",
       "      <td>2454</td>\n",
       "      <td>5150</td>\n",
       "      <td>U.S.A.</td>\n",
       "      <td>2019</td>\n",
       "      <td>Tanzania</td>\n",
       "      <td>Kokoa Kamili, batch 1</td>\n",
       "      <td>76.0</td>\n",
       "      <td>3.0</td>\n",
       "      <td>B,S,C</td>\n",
       "      <td>rich cocoa, fatty, bready</td>\n",
       "      <td>3.25</td>\n",
       "    </tr>\n",
       "    <tr>\n",
       "      <th>1</th>\n",
       "      <td>2458</td>\n",
       "      <td>5150</td>\n",
       "      <td>U.S.A.</td>\n",
       "      <td>2019</td>\n",
       "      <td>Dominican Republic</td>\n",
       "      <td>Zorzal, batch 1</td>\n",
       "      <td>76.0</td>\n",
       "      <td>3.0</td>\n",
       "      <td>B,S,C</td>\n",
       "      <td>cocoa, vegetal, savory</td>\n",
       "      <td>3.50</td>\n",
       "    </tr>\n",
       "    <tr>\n",
       "      <th>2</th>\n",
       "      <td>2454</td>\n",
       "      <td>5150</td>\n",
       "      <td>U.S.A.</td>\n",
       "      <td>2019</td>\n",
       "      <td>Madagascar</td>\n",
       "      <td>Bejofo Estate, batch 1</td>\n",
       "      <td>76.0</td>\n",
       "      <td>3.0</td>\n",
       "      <td>B,S,C</td>\n",
       "      <td>cocoa, blackberry, full body</td>\n",
       "      <td>3.75</td>\n",
       "    </tr>\n",
       "    <tr>\n",
       "      <th>3</th>\n",
       "      <td>2542</td>\n",
       "      <td>5150</td>\n",
       "      <td>U.S.A.</td>\n",
       "      <td>2021</td>\n",
       "      <td>Fiji</td>\n",
       "      <td>Matasawalevu, batch 1</td>\n",
       "      <td>68.0</td>\n",
       "      <td>3.0</td>\n",
       "      <td>B,S,C</td>\n",
       "      <td>chewy, off, rubbery</td>\n",
       "      <td>3.00</td>\n",
       "    </tr>\n",
       "    <tr>\n",
       "      <th>4</th>\n",
       "      <td>2546</td>\n",
       "      <td>5150</td>\n",
       "      <td>U.S.A.</td>\n",
       "      <td>2021</td>\n",
       "      <td>Venezuela</td>\n",
       "      <td>Sur del Lago, batch 1</td>\n",
       "      <td>72.0</td>\n",
       "      <td>3.0</td>\n",
       "      <td>B,S,C</td>\n",
       "      <td>fatty, earthy, moss, nutty,chalky</td>\n",
       "      <td>3.00</td>\n",
       "    </tr>\n",
       "  </tbody>\n",
       "</table>\n",
       "</div>"
      ],
      "text/plain": [
       "     id manufacturer company_location  year_reviewed         bean_origin  \\\n",
       "0  2454         5150           U.S.A.           2019            Tanzania   \n",
       "1  2458         5150           U.S.A.           2019  Dominican Republic   \n",
       "2  2454         5150           U.S.A.           2019          Madagascar   \n",
       "3  2542         5150           U.S.A.           2021                Fiji   \n",
       "4  2546         5150           U.S.A.           2021           Venezuela   \n",
       "\n",
       "                 bar_name  cocoa_percent  num_ingredients ingredients  \\\n",
       "0   Kokoa Kamili, batch 1           76.0              3.0       B,S,C   \n",
       "1         Zorzal, batch 1           76.0              3.0       B,S,C   \n",
       "2  Bejofo Estate, batch 1           76.0              3.0       B,S,C   \n",
       "3   Matasawalevu, batch 1           68.0              3.0       B,S,C   \n",
       "4   Sur del Lago, batch 1           72.0              3.0       B,S,C   \n",
       "\n",
       "                              review  rating  \n",
       "0          rich cocoa, fatty, bready    3.25  \n",
       "1             cocoa, vegetal, savory    3.50  \n",
       "2       cocoa, blackberry, full body    3.75  \n",
       "3                chewy, off, rubbery    3.00  \n",
       "4  fatty, earthy, moss, nutty,chalky    3.00  "
      ]
     },
     "execution_count": 2,
     "metadata": {},
     "output_type": "execute_result"
    }
   ],
   "source": [
    "# Reading in the data\n",
    "df = pd.read_csv('data/chocolate_bars.csv')\n",
    "\n",
    "# Take a look at the first datapoints\n",
    "df.head()"
   ]
  },
  {
   "cell_type": "code",
   "execution_count": 3,
   "id": "d7d0a771-3f4e-422d-8a0d-13dd623f9067",
   "metadata": {},
   "outputs": [
    {
     "name": "stdout",
     "output_type": "stream",
     "text": [
      "<class 'pandas.core.frame.DataFrame'>\n",
      "RangeIndex: 2530 entries, 0 to 2529\n",
      "Data columns (total 11 columns):\n",
      " #   Column            Non-Null Count  Dtype  \n",
      "---  ------            --------------  -----  \n",
      " 0   id                2530 non-null   int64  \n",
      " 1   manufacturer      2530 non-null   object \n",
      " 2   company_location  2530 non-null   object \n",
      " 3   year_reviewed     2530 non-null   int64  \n",
      " 4   bean_origin       2530 non-null   object \n",
      " 5   bar_name          2530 non-null   object \n",
      " 6   cocoa_percent     2530 non-null   float64\n",
      " 7   num_ingredients   2443 non-null   float64\n",
      " 8   ingredients       2443 non-null   object \n",
      " 9   review            2530 non-null   object \n",
      " 10  rating            2530 non-null   float64\n",
      "dtypes: float64(3), int64(2), object(6)\n",
      "memory usage: 217.5+ KB\n"
     ]
    }
   ],
   "source": [
    "df.info()"
   ]
  },
  {
   "cell_type": "markdown",
   "id": "dcdc9c91-7024-4538-92c1-67f1b1e31f10",
   "metadata": {},
   "source": [
    "#### What is the average rating by country of origin?"
   ]
  },
  {
   "cell_type": "code",
   "execution_count": 4,
   "id": "bde5bb20-d5a9-441b-9412-4d4d52ba91b0",
   "metadata": {},
   "outputs": [
    {
     "data": {
      "application/com.datacamp.data-table.v1+json": {
       "is_truncated": false,
       "table": {
        "data": [
         {
          "avg_rating": 3.3125,
          "company_location": "Amsterdam"
         },
         {
          "avg_rating": 3.3055555556,
          "company_location": "Argentina"
         },
         {
          "avg_rating": 3.358490566,
          "company_location": "Australia"
         },
         {
          "avg_rating": 3.2583333333,
          "company_location": "Austria"
         },
         {
          "avg_rating": 3.1031746032,
          "company_location": "Belgium"
         },
         {
          "avg_rating": 3.25,
          "company_location": "Bolivia"
         },
         {
          "avg_rating": 3.28,
          "company_location": "Brazil"
         },
         {
          "avg_rating": 3.3036723164,
          "company_location": "Canada"
         },
         {
          "avg_rating": 3.75,
          "company_location": "Chile"
         },
         {
          "avg_rating": 3.1982758621,
          "company_location": "Colombia"
         },
         {
          "avg_rating": 3.1388888889,
          "company_location": "Costa Rica"
         },
         {
          "avg_rating": 3,
          "company_location": "Czech Republic"
         },
         {
          "avg_rating": 3.3387096774,
          "company_location": "Denmark"
         },
         {
          "avg_rating": 3.1136363636,
          "company_location": "Dominican Republic"
         },
         {
          "avg_rating": 3.0387931034,
          "company_location": "Ecuador"
         },
         {
          "avg_rating": 3,
          "company_location": "El Salvador"
         },
         {
          "avg_rating": 3.25,
          "company_location": "Fiji"
         },
         {
          "avg_rating": 3.25,
          "company_location": "Finland"
         },
         {
          "avg_rating": 3.2585227273,
          "company_location": "France"
         },
         {
          "avg_rating": 3.2083333333,
          "company_location": "Germany"
         },
         {
          "avg_rating": 2.75,
          "company_location": "Ghana"
         },
         {
          "avg_rating": 2.8333333333,
          "company_location": "Grenada"
         },
         {
          "avg_rating": 3.35,
          "company_location": "Guatemala"
         },
         {
          "avg_rating": 3.2083333333,
          "company_location": "Honduras"
         },
         {
          "avg_rating": 3.2211538462,
          "company_location": "Hungary"
         },
         {
          "avg_rating": 3.3125,
          "company_location": "Iceland"
         },
         {
          "avg_rating": 2.625,
          "company_location": "India"
         },
         {
          "avg_rating": 2.9,
          "company_location": "Ireland"
         },
         {
          "avg_rating": 3.25,
          "company_location": "Israel"
         },
         {
          "avg_rating": 3.2307692308,
          "company_location": "Italy"
         },
         {
          "avg_rating": 3.1290322581,
          "company_location": "Japan"
         },
         {
          "avg_rating": 3.125,
          "company_location": "Lithuania"
         },
         {
          "avg_rating": 3.1470588235,
          "company_location": "Madagascar"
         },
         {
          "avg_rating": 2.8333333333,
          "company_location": "Malaysia"
         },
         {
          "avg_rating": 2.75,
          "company_location": "Martinique"
         },
         {
          "avg_rating": 3.1,
          "company_location": "Mexico"
         },
         {
          "avg_rating": 3.125,
          "company_location": "Netherlands"
         },
         {
          "avg_rating": 3.212962963,
          "company_location": "New Zealand"
         },
         {
          "avg_rating": 3.1,
          "company_location": "Nicaragua"
         },
         {
          "avg_rating": 3.3333333333,
          "company_location": "Norway"
         },
         {
          "avg_rating": 3.0760869565,
          "company_location": "Peru"
         },
         {
          "avg_rating": 3.15,
          "company_location": "Philippines"
         },
         {
          "avg_rating": 3.375,
          "company_location": "Poland"
         },
         {
          "avg_rating": 2.75,
          "company_location": "Portugal"
         },
         {
          "avg_rating": 2.625,
          "company_location": "Puerto Rico"
         },
         {
          "avg_rating": 3.25,
          "company_location": "Russia"
         },
         {
          "avg_rating": 2.875,
          "company_location": "Sao Tome"
         },
         {
          "avg_rating": 2.8125,
          "company_location": "Sao Tome & Principe"
         },
         {
          "avg_rating": 3.2727272727,
          "company_location": "Scotland"
         },
         {
          "avg_rating": 3.2,
          "company_location": "Singapore"
         },
         {
          "avg_rating": 2.75,
          "company_location": "South Africa"
         },
         {
          "avg_rating": 3.1818181818,
          "company_location": "South Korea"
         },
         {
          "avg_rating": 3.2638888889,
          "company_location": "Spain"
         },
         {
          "avg_rating": 2.75,
          "company_location": "St. Lucia"
         },
         {
          "avg_rating": 2.75,
          "company_location": "St.Vincent-Grenadines"
         },
         {
          "avg_rating": 3.25,
          "company_location": "Suriname"
         },
         {
          "avg_rating": 3,
          "company_location": "Sweden"
         },
         {
          "avg_rating": 3.3181818182,
          "company_location": "Switzerland"
         },
         {
          "avg_rating": 3.1,
          "company_location": "Taiwan"
         },
         {
          "avg_rating": 3.3,
          "company_location": "Thailand"
         },
         {
          "avg_rating": 3.4,
          "company_location": "U.A.E."
         },
         {
          "avg_rating": 3.0695488722,
          "company_location": "U.K."
         },
         {
          "avg_rating": 3.1908010563,
          "company_location": "U.S.A."
         },
         {
          "avg_rating": 2.75,
          "company_location": "Vanuatu"
         },
         {
          "avg_rating": 3.1129032258,
          "company_location": "Venezuela"
         },
         {
          "avg_rating": 3.359375,
          "company_location": "Vietnam"
         },
         {
          "avg_rating": 2.75,
          "company_location": "Wales"
         }
        ],
        "schema": {
         "fields": [
          {
           "name": "company_location",
           "type": "string"
          },
          {
           "name": "avg_rating",
           "type": "number"
          }
         ],
         "pandas_version": "0.20.0",
         "primaryKey": [
          "company_location"
         ]
        }
       },
       "total_rows": 67
      },
      "text/html": [
       "<div>\n",
       "<style scoped>\n",
       "    .dataframe tbody tr th:only-of-type {\n",
       "        vertical-align: middle;\n",
       "    }\n",
       "\n",
       "    .dataframe tbody tr th {\n",
       "        vertical-align: top;\n",
       "    }\n",
       "\n",
       "    .dataframe thead th {\n",
       "        text-align: right;\n",
       "    }\n",
       "</style>\n",
       "<table border=\"1\" class=\"dataframe\">\n",
       "  <thead>\n",
       "    <tr style=\"text-align: right;\">\n",
       "      <th></th>\n",
       "      <th>avg_rating</th>\n",
       "    </tr>\n",
       "    <tr>\n",
       "      <th>company_location</th>\n",
       "      <th></th>\n",
       "    </tr>\n",
       "  </thead>\n",
       "  <tbody>\n",
       "    <tr>\n",
       "      <th>Amsterdam</th>\n",
       "      <td>3.312500</td>\n",
       "    </tr>\n",
       "    <tr>\n",
       "      <th>Argentina</th>\n",
       "      <td>3.305556</td>\n",
       "    </tr>\n",
       "    <tr>\n",
       "      <th>Australia</th>\n",
       "      <td>3.358491</td>\n",
       "    </tr>\n",
       "    <tr>\n",
       "      <th>Austria</th>\n",
       "      <td>3.258333</td>\n",
       "    </tr>\n",
       "    <tr>\n",
       "      <th>Belgium</th>\n",
       "      <td>3.103175</td>\n",
       "    </tr>\n",
       "    <tr>\n",
       "      <th>...</th>\n",
       "      <td>...</td>\n",
       "    </tr>\n",
       "    <tr>\n",
       "      <th>U.S.A.</th>\n",
       "      <td>3.190801</td>\n",
       "    </tr>\n",
       "    <tr>\n",
       "      <th>Vanuatu</th>\n",
       "      <td>2.750000</td>\n",
       "    </tr>\n",
       "    <tr>\n",
       "      <th>Venezuela</th>\n",
       "      <td>3.112903</td>\n",
       "    </tr>\n",
       "    <tr>\n",
       "      <th>Vietnam</th>\n",
       "      <td>3.359375</td>\n",
       "    </tr>\n",
       "    <tr>\n",
       "      <th>Wales</th>\n",
       "      <td>2.750000</td>\n",
       "    </tr>\n",
       "  </tbody>\n",
       "</table>\n",
       "<p>67 rows × 1 columns</p>\n",
       "</div>"
      ],
      "text/plain": [
       "                  avg_rating\n",
       "company_location            \n",
       "Amsterdam           3.312500\n",
       "Argentina           3.305556\n",
       "Australia           3.358491\n",
       "Austria             3.258333\n",
       "Belgium             3.103175\n",
       "...                      ...\n",
       "U.S.A.              3.190801\n",
       "Vanuatu             2.750000\n",
       "Venezuela           3.112903\n",
       "Vietnam             3.359375\n",
       "Wales               2.750000\n",
       "\n",
       "[67 rows x 1 columns]"
      ]
     },
     "execution_count": 4,
     "metadata": {},
     "output_type": "execute_result"
    }
   ],
   "source": [
    "avg_rate_by_country = df.groupby('company_location').agg(avg_rating = ('rating','mean'))\n",
    "avg_rate_by_country"
   ]
  },
  {
   "cell_type": "code",
   "execution_count": 5,
   "id": "5ec87e07-d4b3-40b5-91c3-4370ad8d37f7",
   "metadata": {},
   "outputs": [
    {
     "data": {
      "application/com.datacamp.data-table.v1+json": {
       "is_truncated": false,
       "table": {
        "data": [
         {
          "avg_rating": 67,
          "index": "count"
         },
         {
          "avg_rating": 3.1184556427,
          "index": "mean"
         },
         {
          "avg_rating": 0.2236934491,
          "index": "std"
         },
         {
          "avg_rating": 2.625,
          "index": "min"
         },
         {
          "avg_rating": 3,
          "index": "25%"
         },
         {
          "avg_rating": 3.1818181818,
          "index": "50%"
         },
         {
          "avg_rating": 3.2612058081,
          "index": "75%"
         },
         {
          "avg_rating": 3.75,
          "index": "max"
         }
        ],
        "schema": {
         "fields": [
          {
           "name": "index",
           "type": "string"
          },
          {
           "name": "avg_rating",
           "type": "number"
          }
         ],
         "pandas_version": "0.20.0",
         "primaryKey": [
          "index"
         ]
        }
       },
       "total_rows": 8
      },
      "text/html": [
       "<div>\n",
       "<style scoped>\n",
       "    .dataframe tbody tr th:only-of-type {\n",
       "        vertical-align: middle;\n",
       "    }\n",
       "\n",
       "    .dataframe tbody tr th {\n",
       "        vertical-align: top;\n",
       "    }\n",
       "\n",
       "    .dataframe thead th {\n",
       "        text-align: right;\n",
       "    }\n",
       "</style>\n",
       "<table border=\"1\" class=\"dataframe\">\n",
       "  <thead>\n",
       "    <tr style=\"text-align: right;\">\n",
       "      <th></th>\n",
       "      <th>avg_rating</th>\n",
       "    </tr>\n",
       "  </thead>\n",
       "  <tbody>\n",
       "    <tr>\n",
       "      <th>count</th>\n",
       "      <td>67.000000</td>\n",
       "    </tr>\n",
       "    <tr>\n",
       "      <th>mean</th>\n",
       "      <td>3.118456</td>\n",
       "    </tr>\n",
       "    <tr>\n",
       "      <th>std</th>\n",
       "      <td>0.223693</td>\n",
       "    </tr>\n",
       "    <tr>\n",
       "      <th>min</th>\n",
       "      <td>2.625000</td>\n",
       "    </tr>\n",
       "    <tr>\n",
       "      <th>25%</th>\n",
       "      <td>3.000000</td>\n",
       "    </tr>\n",
       "    <tr>\n",
       "      <th>50%</th>\n",
       "      <td>3.181818</td>\n",
       "    </tr>\n",
       "    <tr>\n",
       "      <th>75%</th>\n",
       "      <td>3.261206</td>\n",
       "    </tr>\n",
       "    <tr>\n",
       "      <th>max</th>\n",
       "      <td>3.750000</td>\n",
       "    </tr>\n",
       "  </tbody>\n",
       "</table>\n",
       "</div>"
      ],
      "text/plain": [
       "       avg_rating\n",
       "count   67.000000\n",
       "mean     3.118456\n",
       "std      0.223693\n",
       "min      2.625000\n",
       "25%      3.000000\n",
       "50%      3.181818\n",
       "75%      3.261206\n",
       "max      3.750000"
      ]
     },
     "execution_count": 5,
     "metadata": {},
     "output_type": "execute_result"
    }
   ],
   "source": [
    "avg_rate_by_country.describe()"
   ]
  },
  {
   "cell_type": "markdown",
   "id": "7f783bb1-5920-4951-9a90-352f2afb1146",
   "metadata": {},
   "source": [
    "#### How many bars were reviewed for each of those countries?"
   ]
  },
  {
   "cell_type": "code",
   "execution_count": 6,
   "id": "6c3055bd-f91a-4b97-9511-3b7d3ad87d5d",
   "metadata": {},
   "outputs": [
    {
     "data": {
      "application/com.datacamp.data-table.v1+json": {
       "is_truncated": false,
       "table": {
        "data": [
         {
          "company_location": "Amsterdam",
          "total_reviews": 12
         },
         {
          "company_location": "Argentina",
          "total_reviews": 9
         },
         {
          "company_location": "Australia",
          "total_reviews": 53
         },
         {
          "company_location": "Austria",
          "total_reviews": 30
         },
         {
          "company_location": "Belgium",
          "total_reviews": 63
         },
         {
          "company_location": "Bolivia",
          "total_reviews": 2
         },
         {
          "company_location": "Brazil",
          "total_reviews": 25
         },
         {
          "company_location": "Canada",
          "total_reviews": 177
         },
         {
          "company_location": "Chile",
          "total_reviews": 2
         },
         {
          "company_location": "Colombia",
          "total_reviews": 29
         },
         {
          "company_location": "Costa Rica",
          "total_reviews": 9
         },
         {
          "company_location": "Czech Republic",
          "total_reviews": 3
         },
         {
          "company_location": "Denmark",
          "total_reviews": 31
         },
         {
          "company_location": "Dominican Republic",
          "total_reviews": 11
         },
         {
          "company_location": "Ecuador",
          "total_reviews": 58
         },
         {
          "company_location": "El Salvador",
          "total_reviews": 3
         },
         {
          "company_location": "Fiji",
          "total_reviews": 4
         },
         {
          "company_location": "Finland",
          "total_reviews": 2
         },
         {
          "company_location": "France",
          "total_reviews": 176
         },
         {
          "company_location": "Germany",
          "total_reviews": 42
         },
         {
          "company_location": "Ghana",
          "total_reviews": 1
         },
         {
          "company_location": "Grenada",
          "total_reviews": 3
         },
         {
          "company_location": "Guatemala",
          "total_reviews": 10
         },
         {
          "company_location": "Honduras",
          "total_reviews": 6
         },
         {
          "company_location": "Hungary",
          "total_reviews": 26
         },
         {
          "company_location": "Iceland",
          "total_reviews": 4
         },
         {
          "company_location": "India",
          "total_reviews": 2
         },
         {
          "company_location": "Ireland",
          "total_reviews": 5
         },
         {
          "company_location": "Israel",
          "total_reviews": 9
         },
         {
          "company_location": "Italy",
          "total_reviews": 78
         },
         {
          "company_location": "Japan",
          "total_reviews": 31
         },
         {
          "company_location": "Lithuania",
          "total_reviews": 8
         },
         {
          "company_location": "Madagascar",
          "total_reviews": 17
         },
         {
          "company_location": "Malaysia",
          "total_reviews": 3
         },
         {
          "company_location": "Martinique",
          "total_reviews": 1
         },
         {
          "company_location": "Mexico",
          "total_reviews": 10
         },
         {
          "company_location": "Netherlands",
          "total_reviews": 8
         },
         {
          "company_location": "New Zealand",
          "total_reviews": 27
         },
         {
          "company_location": "Nicaragua",
          "total_reviews": 10
         },
         {
          "company_location": "Norway",
          "total_reviews": 3
         },
         {
          "company_location": "Peru",
          "total_reviews": 23
         },
         {
          "company_location": "Philippines",
          "total_reviews": 5
         },
         {
          "company_location": "Poland",
          "total_reviews": 8
         },
         {
          "company_location": "Portugal",
          "total_reviews": 3
         },
         {
          "company_location": "Puerto Rico",
          "total_reviews": 4
         },
         {
          "company_location": "Russia",
          "total_reviews": 3
         },
         {
          "company_location": "Sao Tome",
          "total_reviews": 4
         },
         {
          "company_location": "Sao Tome & Principe",
          "total_reviews": 4
         },
         {
          "company_location": "Scotland",
          "total_reviews": 11
         },
         {
          "company_location": "Singapore",
          "total_reviews": 15
         },
         {
          "company_location": "South Africa",
          "total_reviews": 4
         },
         {
          "company_location": "South Korea",
          "total_reviews": 11
         },
         {
          "company_location": "Spain",
          "total_reviews": 36
         },
         {
          "company_location": "St. Lucia",
          "total_reviews": 3
         },
         {
          "company_location": "St.Vincent-Grenadines",
          "total_reviews": 1
         },
         {
          "company_location": "Suriname",
          "total_reviews": 1
         },
         {
          "company_location": "Sweden",
          "total_reviews": 6
         },
         {
          "company_location": "Switzerland",
          "total_reviews": 44
         },
         {
          "company_location": "Taiwan",
          "total_reviews": 10
         },
         {
          "company_location": "Thailand",
          "total_reviews": 5
         },
         {
          "company_location": "U.A.E.",
          "total_reviews": 5
         },
         {
          "company_location": "U.K.",
          "total_reviews": 133
         },
         {
          "company_location": "U.S.A.",
          "total_reviews": 1136
         },
         {
          "company_location": "Vanuatu",
          "total_reviews": 4
         },
         {
          "company_location": "Venezuela",
          "total_reviews": 31
         },
         {
          "company_location": "Vietnam",
          "total_reviews": 16
         },
         {
          "company_location": "Wales",
          "total_reviews": 1
         }
        ],
        "schema": {
         "fields": [
          {
           "name": "company_location",
           "type": "string"
          },
          {
           "name": "total_reviews",
           "type": "integer"
          }
         ],
         "pandas_version": "0.20.0",
         "primaryKey": [
          "company_location"
         ]
        }
       },
       "total_rows": 67
      },
      "text/html": [
       "<div>\n",
       "<style scoped>\n",
       "    .dataframe tbody tr th:only-of-type {\n",
       "        vertical-align: middle;\n",
       "    }\n",
       "\n",
       "    .dataframe tbody tr th {\n",
       "        vertical-align: top;\n",
       "    }\n",
       "\n",
       "    .dataframe thead th {\n",
       "        text-align: right;\n",
       "    }\n",
       "</style>\n",
       "<table border=\"1\" class=\"dataframe\">\n",
       "  <thead>\n",
       "    <tr style=\"text-align: right;\">\n",
       "      <th></th>\n",
       "      <th>total_reviews</th>\n",
       "    </tr>\n",
       "    <tr>\n",
       "      <th>company_location</th>\n",
       "      <th></th>\n",
       "    </tr>\n",
       "  </thead>\n",
       "  <tbody>\n",
       "    <tr>\n",
       "      <th>Amsterdam</th>\n",
       "      <td>12</td>\n",
       "    </tr>\n",
       "    <tr>\n",
       "      <th>Argentina</th>\n",
       "      <td>9</td>\n",
       "    </tr>\n",
       "    <tr>\n",
       "      <th>Australia</th>\n",
       "      <td>53</td>\n",
       "    </tr>\n",
       "    <tr>\n",
       "      <th>Austria</th>\n",
       "      <td>30</td>\n",
       "    </tr>\n",
       "    <tr>\n",
       "      <th>Belgium</th>\n",
       "      <td>63</td>\n",
       "    </tr>\n",
       "    <tr>\n",
       "      <th>...</th>\n",
       "      <td>...</td>\n",
       "    </tr>\n",
       "    <tr>\n",
       "      <th>U.S.A.</th>\n",
       "      <td>1136</td>\n",
       "    </tr>\n",
       "    <tr>\n",
       "      <th>Vanuatu</th>\n",
       "      <td>4</td>\n",
       "    </tr>\n",
       "    <tr>\n",
       "      <th>Venezuela</th>\n",
       "      <td>31</td>\n",
       "    </tr>\n",
       "    <tr>\n",
       "      <th>Vietnam</th>\n",
       "      <td>16</td>\n",
       "    </tr>\n",
       "    <tr>\n",
       "      <th>Wales</th>\n",
       "      <td>1</td>\n",
       "    </tr>\n",
       "  </tbody>\n",
       "</table>\n",
       "<p>67 rows × 1 columns</p>\n",
       "</div>"
      ],
      "text/plain": [
       "                  total_reviews\n",
       "company_location               \n",
       "Amsterdam                    12\n",
       "Argentina                     9\n",
       "Australia                    53\n",
       "Austria                      30\n",
       "Belgium                      63\n",
       "...                         ...\n",
       "U.S.A.                     1136\n",
       "Vanuatu                       4\n",
       "Venezuela                    31\n",
       "Vietnam                      16\n",
       "Wales                         1\n",
       "\n",
       "[67 rows x 1 columns]"
      ]
     },
     "execution_count": 6,
     "metadata": {},
     "output_type": "execute_result"
    }
   ],
   "source": [
    "total_reviews_by_country = df.groupby('company_location').agg(total_reviews = ('review','count'))\n",
    "total_reviews_by_country"
   ]
  },
  {
   "cell_type": "markdown",
   "id": "2cc0f3bd-35ee-46c6-88ab-f9a253a2909c",
   "metadata": {},
   "source": [
    "#### Create plots to visualize findings for questions 1 and 2."
   ]
  },
  {
   "cell_type": "code",
   "execution_count": 7,
   "id": "1fcba7a3-2a8a-4a75-a66f-4215ed6a3f29",
   "metadata": {},
   "outputs": [],
   "source": [
    "def plot_bar(df, title):\n",
    "    \"\"\"\n",
    "    This function is plot bar graph based on dataframe from Q1 and Q2\n",
    "    input : dataframe\n",
    "            title  --> show the title of plot as string\n",
    "    return bar plot graph\n",
    "    \"\"\"\n",
    "\n",
    "    #set fig size\n",
    "    f, ax = plt.subplots(figsize=(6, 15))\n",
    "    \n",
    "    #reset index\n",
    "    df = df.reset_index()\n",
    "    col_name1, col_name2 = df.columns\n",
    "    #sort values descendingly\n",
    "    df = df.sort_values(by = col_name2, ascending = False)\n",
    "    sns.barplot(x= col_name2, y = col_name1, data=df)\n",
    "    ax.set_title(title)\n",
    "    display(df)"
   ]
  },
  {
   "cell_type": "code",
   "execution_count": 8,
   "id": "2d793dbc-5500-46d4-91ef-9f7ae98ee261",
   "metadata": {},
   "outputs": [
    {
     "data": {
      "application/com.datacamp.data-table.v1+json": {
       "is_truncated": false,
       "table": {
        "data": [
         {
          "avg_rating": 3.75,
          "company_location": "Chile",
          "index": 8
         },
         {
          "avg_rating": 3.4,
          "company_location": "U.A.E.",
          "index": 60
         },
         {
          "avg_rating": 3.375,
          "company_location": "Poland",
          "index": 42
         },
         {
          "avg_rating": 3.359375,
          "company_location": "Vietnam",
          "index": 65
         },
         {
          "avg_rating": 3.358490566,
          "company_location": "Australia",
          "index": 2
         },
         {
          "avg_rating": 3.35,
          "company_location": "Guatemala",
          "index": 22
         },
         {
          "avg_rating": 3.3387096774,
          "company_location": "Denmark",
          "index": 12
         },
         {
          "avg_rating": 3.3333333333,
          "company_location": "Norway",
          "index": 39
         },
         {
          "avg_rating": 3.3181818182,
          "company_location": "Switzerland",
          "index": 57
         },
         {
          "avg_rating": 3.3125,
          "company_location": "Amsterdam",
          "index": 0
         },
         {
          "avg_rating": 3.3125,
          "company_location": "Iceland",
          "index": 25
         },
         {
          "avg_rating": 3.3055555556,
          "company_location": "Argentina",
          "index": 1
         },
         {
          "avg_rating": 3.3036723164,
          "company_location": "Canada",
          "index": 7
         },
         {
          "avg_rating": 3.3,
          "company_location": "Thailand",
          "index": 59
         },
         {
          "avg_rating": 3.28,
          "company_location": "Brazil",
          "index": 6
         },
         {
          "avg_rating": 3.2727272727,
          "company_location": "Scotland",
          "index": 48
         },
         {
          "avg_rating": 3.2638888889,
          "company_location": "Spain",
          "index": 52
         },
         {
          "avg_rating": 3.2585227273,
          "company_location": "France",
          "index": 18
         },
         {
          "avg_rating": 3.2583333333,
          "company_location": "Austria",
          "index": 3
         },
         {
          "avg_rating": 3.25,
          "company_location": "Fiji",
          "index": 16
         },
         {
          "avg_rating": 3.25,
          "company_location": "Suriname",
          "index": 55
         },
         {
          "avg_rating": 3.25,
          "company_location": "Russia",
          "index": 45
         },
         {
          "avg_rating": 3.25,
          "company_location": "Bolivia",
          "index": 5
         },
         {
          "avg_rating": 3.25,
          "company_location": "Finland",
          "index": 17
         },
         {
          "avg_rating": 3.25,
          "company_location": "Israel",
          "index": 28
         },
         {
          "avg_rating": 3.2307692308,
          "company_location": "Italy",
          "index": 29
         },
         {
          "avg_rating": 3.2211538462,
          "company_location": "Hungary",
          "index": 24
         },
         {
          "avg_rating": 3.212962963,
          "company_location": "New Zealand",
          "index": 37
         },
         {
          "avg_rating": 3.2083333333,
          "company_location": "Germany",
          "index": 19
         },
         {
          "avg_rating": 3.2083333333,
          "company_location": "Honduras",
          "index": 23
         },
         {
          "avg_rating": 3.2,
          "company_location": "Singapore",
          "index": 49
         },
         {
          "avg_rating": 3.1982758621,
          "company_location": "Colombia",
          "index": 9
         },
         {
          "avg_rating": 3.1908010563,
          "company_location": "U.S.A.",
          "index": 62
         },
         {
          "avg_rating": 3.1818181818,
          "company_location": "South Korea",
          "index": 51
         },
         {
          "avg_rating": 3.15,
          "company_location": "Philippines",
          "index": 41
         },
         {
          "avg_rating": 3.1470588235,
          "company_location": "Madagascar",
          "index": 32
         },
         {
          "avg_rating": 3.1388888889,
          "company_location": "Costa Rica",
          "index": 10
         },
         {
          "avg_rating": 3.1290322581,
          "company_location": "Japan",
          "index": 30
         },
         {
          "avg_rating": 3.125,
          "company_location": "Netherlands",
          "index": 36
         },
         {
          "avg_rating": 3.125,
          "company_location": "Lithuania",
          "index": 31
         },
         {
          "avg_rating": 3.1136363636,
          "company_location": "Dominican Republic",
          "index": 13
         },
         {
          "avg_rating": 3.1129032258,
          "company_location": "Venezuela",
          "index": 64
         },
         {
          "avg_rating": 3.1031746032,
          "company_location": "Belgium",
          "index": 4
         },
         {
          "avg_rating": 3.1,
          "company_location": "Mexico",
          "index": 35
         },
         {
          "avg_rating": 3.1,
          "company_location": "Taiwan",
          "index": 58
         },
         {
          "avg_rating": 3.1,
          "company_location": "Nicaragua",
          "index": 38
         },
         {
          "avg_rating": 3.0760869565,
          "company_location": "Peru",
          "index": 40
         },
         {
          "avg_rating": 3.0695488722,
          "company_location": "U.K.",
          "index": 61
         },
         {
          "avg_rating": 3.0387931034,
          "company_location": "Ecuador",
          "index": 14
         },
         {
          "avg_rating": 3,
          "company_location": "Sweden",
          "index": 56
         },
         {
          "avg_rating": 3,
          "company_location": "El Salvador",
          "index": 15
         },
         {
          "avg_rating": 3,
          "company_location": "Czech Republic",
          "index": 11
         },
         {
          "avg_rating": 2.9,
          "company_location": "Ireland",
          "index": 27
         },
         {
          "avg_rating": 2.875,
          "company_location": "Sao Tome",
          "index": 46
         },
         {
          "avg_rating": 2.8333333333,
          "company_location": "Malaysia",
          "index": 33
         },
         {
          "avg_rating": 2.8333333333,
          "company_location": "Grenada",
          "index": 21
         },
         {
          "avg_rating": 2.8125,
          "company_location": "Sao Tome & Principe",
          "index": 47
         },
         {
          "avg_rating": 2.75,
          "company_location": "St.Vincent-Grenadines",
          "index": 54
         },
         {
          "avg_rating": 2.75,
          "company_location": "St. Lucia",
          "index": 53
         },
         {
          "avg_rating": 2.75,
          "company_location": "South Africa",
          "index": 50
         },
         {
          "avg_rating": 2.75,
          "company_location": "Portugal",
          "index": 43
         },
         {
          "avg_rating": 2.75,
          "company_location": "Martinique",
          "index": 34
         },
         {
          "avg_rating": 2.75,
          "company_location": "Vanuatu",
          "index": 63
         },
         {
          "avg_rating": 2.75,
          "company_location": "Ghana",
          "index": 20
         },
         {
          "avg_rating": 2.75,
          "company_location": "Wales",
          "index": 66
         },
         {
          "avg_rating": 2.625,
          "company_location": "Puerto Rico",
          "index": 44
         },
         {
          "avg_rating": 2.625,
          "company_location": "India",
          "index": 26
         }
        ],
        "schema": {
         "fields": [
          {
           "name": "index",
           "type": "integer"
          },
          {
           "name": "company_location",
           "type": "string"
          },
          {
           "name": "avg_rating",
           "type": "number"
          }
         ],
         "pandas_version": "0.20.0",
         "primaryKey": [
          "index"
         ]
        }
       },
       "total_rows": 67
      },
      "text/html": [
       "<div>\n",
       "<style scoped>\n",
       "    .dataframe tbody tr th:only-of-type {\n",
       "        vertical-align: middle;\n",
       "    }\n",
       "\n",
       "    .dataframe tbody tr th {\n",
       "        vertical-align: top;\n",
       "    }\n",
       "\n",
       "    .dataframe thead th {\n",
       "        text-align: right;\n",
       "    }\n",
       "</style>\n",
       "<table border=\"1\" class=\"dataframe\">\n",
       "  <thead>\n",
       "    <tr style=\"text-align: right;\">\n",
       "      <th></th>\n",
       "      <th>company_location</th>\n",
       "      <th>avg_rating</th>\n",
       "    </tr>\n",
       "  </thead>\n",
       "  <tbody>\n",
       "    <tr>\n",
       "      <th>8</th>\n",
       "      <td>Chile</td>\n",
       "      <td>3.750000</td>\n",
       "    </tr>\n",
       "    <tr>\n",
       "      <th>60</th>\n",
       "      <td>U.A.E.</td>\n",
       "      <td>3.400000</td>\n",
       "    </tr>\n",
       "    <tr>\n",
       "      <th>42</th>\n",
       "      <td>Poland</td>\n",
       "      <td>3.375000</td>\n",
       "    </tr>\n",
       "    <tr>\n",
       "      <th>65</th>\n",
       "      <td>Vietnam</td>\n",
       "      <td>3.359375</td>\n",
       "    </tr>\n",
       "    <tr>\n",
       "      <th>2</th>\n",
       "      <td>Australia</td>\n",
       "      <td>3.358491</td>\n",
       "    </tr>\n",
       "    <tr>\n",
       "      <th>...</th>\n",
       "      <td>...</td>\n",
       "      <td>...</td>\n",
       "    </tr>\n",
       "    <tr>\n",
       "      <th>63</th>\n",
       "      <td>Vanuatu</td>\n",
       "      <td>2.750000</td>\n",
       "    </tr>\n",
       "    <tr>\n",
       "      <th>20</th>\n",
       "      <td>Ghana</td>\n",
       "      <td>2.750000</td>\n",
       "    </tr>\n",
       "    <tr>\n",
       "      <th>66</th>\n",
       "      <td>Wales</td>\n",
       "      <td>2.750000</td>\n",
       "    </tr>\n",
       "    <tr>\n",
       "      <th>44</th>\n",
       "      <td>Puerto Rico</td>\n",
       "      <td>2.625000</td>\n",
       "    </tr>\n",
       "    <tr>\n",
       "      <th>26</th>\n",
       "      <td>India</td>\n",
       "      <td>2.625000</td>\n",
       "    </tr>\n",
       "  </tbody>\n",
       "</table>\n",
       "<p>67 rows × 2 columns</p>\n",
       "</div>"
      ],
      "text/plain": [
       "   company_location  avg_rating\n",
       "8             Chile    3.750000\n",
       "60           U.A.E.    3.400000\n",
       "42           Poland    3.375000\n",
       "65          Vietnam    3.359375\n",
       "2         Australia    3.358491\n",
       "..              ...         ...\n",
       "63          Vanuatu    2.750000\n",
       "20            Ghana    2.750000\n",
       "66            Wales    2.750000\n",
       "44      Puerto Rico    2.625000\n",
       "26            India    2.625000\n",
       "\n",
       "[67 rows x 2 columns]"
      ]
     },
     "metadata": {},
     "output_type": "display_data"
    },
    {
     "data": {
      "image/png": "[encoded data removed]",
      "text/plain": [
       "<Figure size 432x1080 with 1 Axes>"
      ]
     },
     "metadata": {
      "needs_background": "light"
     },
     "output_type": "display_data"
    }
   ],
   "source": [
    "title = \"Average rating of each country on chocolate bars\"\n",
    "plot_bar(avg_rate_by_country, title)"
   ]
  },
  {
   "cell_type": "code",
   "execution_count": 9,
   "id": "92090e94-7a23-459c-8e75-53b8028c99a4",
   "metadata": {},
   "outputs": [
    {
     "data": {
      "application/com.datacamp.data-table.v1+json": {
       "is_truncated": false,
       "table": {
        "data": [
         {
          "company_location": "U.S.A.",
          "index": 62,
          "total_reviews": 1136
         },
         {
          "company_location": "Canada",
          "index": 7,
          "total_reviews": 177
         },
         {
          "company_location": "France",
          "index": 18,
          "total_reviews": 176
         },
         {
          "company_location": "U.K.",
          "index": 61,
          "total_reviews": 133
         },
         {
          "company_location": "Italy",
          "index": 29,
          "total_reviews": 78
         },
         {
          "company_location": "Belgium",
          "index": 4,
          "total_reviews": 63
         },
         {
          "company_location": "Ecuador",
          "index": 14,
          "total_reviews": 58
         },
         {
          "company_location": "Australia",
          "index": 2,
          "total_reviews": 53
         },
         {
          "company_location": "Switzerland",
          "index": 57,
          "total_reviews": 44
         },
         {
          "company_location": "Germany",
          "index": 19,
          "total_reviews": 42
         },
         {
          "company_location": "Spain",
          "index": 52,
          "total_reviews": 36
         },
         {
          "company_location": "Denmark",
          "index": 12,
          "total_reviews": 31
         },
         {
          "company_location": "Japan",
          "index": 30,
          "total_reviews": 31
         },
         {
          "company_location": "Venezuela",
          "index": 64,
          "total_reviews": 31
         },
         {
          "company_location": "Austria",
          "index": 3,
          "total_reviews": 30
         },
         {
          "company_location": "Colombia",
          "index": 9,
          "total_reviews": 29
         },
         {
          "company_location": "New Zealand",
          "index": 37,
          "total_reviews": 27
         },
         {
          "company_location": "Hungary",
          "index": 24,
          "total_reviews": 26
         },
         {
          "company_location": "Brazil",
          "index": 6,
          "total_reviews": 25
         },
         {
          "company_location": "Peru",
          "index": 40,
          "total_reviews": 23
         },
         {
          "company_location": "Madagascar",
          "index": 32,
          "total_reviews": 17
         },
         {
          "company_location": "Vietnam",
          "index": 65,
          "total_reviews": 16
         },
         {
          "company_location": "Singapore",
          "index": 49,
          "total_reviews": 15
         },
         {
          "company_location": "Amsterdam",
          "index": 0,
          "total_reviews": 12
         },
         {
          "company_location": "Dominican Republic",
          "index": 13,
          "total_reviews": 11
         },
         {
          "company_location": "Scotland",
          "index": 48,
          "total_reviews": 11
         },
         {
          "company_location": "South Korea",
          "index": 51,
          "total_reviews": 11
         },
         {
          "company_location": "Nicaragua",
          "index": 38,
          "total_reviews": 10
         },
         {
          "company_location": "Mexico",
          "index": 35,
          "total_reviews": 10
         },
         {
          "company_location": "Guatemala",
          "index": 22,
          "total_reviews": 10
         },
         {
          "company_location": "Taiwan",
          "index": 58,
          "total_reviews": 10
         },
         {
          "company_location": "Israel",
          "index": 28,
          "total_reviews": 9
         },
         {
          "company_location": "Argentina",
          "index": 1,
          "total_reviews": 9
         },
         {
          "company_location": "Costa Rica",
          "index": 10,
          "total_reviews": 9
         },
         {
          "company_location": "Lithuania",
          "index": 31,
          "total_reviews": 8
         },
         {
          "company_location": "Netherlands",
          "index": 36,
          "total_reviews": 8
         },
         {
          "company_location": "Poland",
          "index": 42,
          "total_reviews": 8
         },
         {
          "company_location": "Honduras",
          "index": 23,
          "total_reviews": 6
         },
         {
          "company_location": "Sweden",
          "index": 56,
          "total_reviews": 6
         },
         {
          "company_location": "Ireland",
          "index": 27,
          "total_reviews": 5
         },
         {
          "company_location": "Thailand",
          "index": 59,
          "total_reviews": 5
         },
         {
          "company_location": "U.A.E.",
          "index": 60,
          "total_reviews": 5
         },
         {
          "company_location": "Philippines",
          "index": 41,
          "total_reviews": 5
         },
         {
          "company_location": "Sao Tome & Principe",
          "index": 47,
          "total_reviews": 4
         },
         {
          "company_location": "Sao Tome",
          "index": 46,
          "total_reviews": 4
         },
         {
          "company_location": "Iceland",
          "index": 25,
          "total_reviews": 4
         },
         {
          "company_location": "Puerto Rico",
          "index": 44,
          "total_reviews": 4
         },
         {
          "company_location": "Fiji",
          "index": 16,
          "total_reviews": 4
         },
         {
          "company_location": "Vanuatu",
          "index": 63,
          "total_reviews": 4
         },
         {
          "company_location": "South Africa",
          "index": 50,
          "total_reviews": 4
         },
         {
          "company_location": "St. Lucia",
          "index": 53,
          "total_reviews": 3
         },
         {
          "company_location": "Malaysia",
          "index": 33,
          "total_reviews": 3
         },
         {
          "company_location": "Russia",
          "index": 45,
          "total_reviews": 3
         },
         {
          "company_location": "Portugal",
          "index": 43,
          "total_reviews": 3
         },
         {
          "company_location": "Norway",
          "index": 39,
          "total_reviews": 3
         },
         {
          "company_location": "Grenada",
          "index": 21,
          "total_reviews": 3
         },
         {
          "company_location": "El Salvador",
          "index": 15,
          "total_reviews": 3
         },
         {
          "company_location": "Czech Republic",
          "index": 11,
          "total_reviews": 3
         },
         {
          "company_location": "India",
          "index": 26,
          "total_reviews": 2
         },
         {
          "company_location": "Finland",
          "index": 17,
          "total_reviews": 2
         },
         {
          "company_location": "Chile",
          "index": 8,
          "total_reviews": 2
         },
         {
          "company_location": "Bolivia",
          "index": 5,
          "total_reviews": 2
         },
         {
          "company_location": "St.Vincent-Grenadines",
          "index": 54,
          "total_reviews": 1
         },
         {
          "company_location": "Suriname",
          "index": 55,
          "total_reviews": 1
         },
         {
          "company_location": "Martinique",
          "index": 34,
          "total_reviews": 1
         },
         {
          "company_location": "Ghana",
          "index": 20,
          "total_reviews": 1
         },
         {
          "company_location": "Wales",
          "index": 66,
          "total_reviews": 1
         }
        ],
        "schema": {
         "fields": [
          {
           "name": "index",
           "type": "integer"
          },
          {
           "name": "company_location",
           "type": "string"
          },
          {
           "name": "total_reviews",
           "type": "integer"
          }
         ],
         "pandas_version": "0.20.0",
         "primaryKey": [
          "index"
         ]
        }
       },
       "total_rows": 67
      },
      "text/html": [
       "<div>\n",
       "<style scoped>\n",
       "    .dataframe tbody tr th:only-of-type {\n",
       "        vertical-align: middle;\n",
       "    }\n",
       "\n",
       "    .dataframe tbody tr th {\n",
       "        vertical-align: top;\n",
       "    }\n",
       "\n",
       "    .dataframe thead th {\n",
       "        text-align: right;\n",
       "    }\n",
       "</style>\n",
       "<table border=\"1\" class=\"dataframe\">\n",
       "  <thead>\n",
       "    <tr style=\"text-align: right;\">\n",
       "      <th></th>\n",
       "      <th>company_location</th>\n",
       "      <th>total_reviews</th>\n",
       "    </tr>\n",
       "  </thead>\n",
       "  <tbody>\n",
       "    <tr>\n",
       "      <th>62</th>\n",
       "      <td>U.S.A.</td>\n",
       "      <td>1136</td>\n",
       "    </tr>\n",
       "    <tr>\n",
       "      <th>7</th>\n",
       "      <td>Canada</td>\n",
       "      <td>177</td>\n",
       "    </tr>\n",
       "    <tr>\n",
       "      <th>18</th>\n",
       "      <td>France</td>\n",
       "      <td>176</td>\n",
       "    </tr>\n",
       "    <tr>\n",
       "      <th>61</th>\n",
       "      <td>U.K.</td>\n",
       "      <td>133</td>\n",
       "    </tr>\n",
       "    <tr>\n",
       "      <th>29</th>\n",
       "      <td>Italy</td>\n",
       "      <td>78</td>\n",
       "    </tr>\n",
       "    <tr>\n",
       "      <th>...</th>\n",
       "      <td>...</td>\n",
       "      <td>...</td>\n",
       "    </tr>\n",
       "    <tr>\n",
       "      <th>54</th>\n",
       "      <td>St.Vincent-Grenadines</td>\n",
       "      <td>1</td>\n",
       "    </tr>\n",
       "    <tr>\n",
       "      <th>55</th>\n",
       "      <td>Suriname</td>\n",
       "      <td>1</td>\n",
       "    </tr>\n",
       "    <tr>\n",
       "      <th>34</th>\n",
       "      <td>Martinique</td>\n",
       "      <td>1</td>\n",
       "    </tr>\n",
       "    <tr>\n",
       "      <th>20</th>\n",
       "      <td>Ghana</td>\n",
       "      <td>1</td>\n",
       "    </tr>\n",
       "    <tr>\n",
       "      <th>66</th>\n",
       "      <td>Wales</td>\n",
       "      <td>1</td>\n",
       "    </tr>\n",
       "  </tbody>\n",
       "</table>\n",
       "<p>67 rows × 2 columns</p>\n",
       "</div>"
      ],
      "text/plain": [
       "         company_location  total_reviews\n",
       "62                 U.S.A.           1136\n",
       "7                  Canada            177\n",
       "18                 France            176\n",
       "61                   U.K.            133\n",
       "29                  Italy             78\n",
       "..                    ...            ...\n",
       "54  St.Vincent-Grenadines              1\n",
       "55               Suriname              1\n",
       "34             Martinique              1\n",
       "20                  Ghana              1\n",
       "66                  Wales              1\n",
       "\n",
       "[67 rows x 2 columns]"
      ]
     },
     "metadata": {},
     "output_type": "display_data"
    },
    {
     "data": {
      "image/png": "[encoded data removed]",
      "text/plain": [
       "<Figure size 432x1080 with 1 Axes>"
      ]
     },
     "metadata": {
      "needs_background": "light"
     },
     "output_type": "display_data"
    }
   ],
   "source": [
    "title = \"Total reviews of each country on chocolate bars\"\n",
    "plot_bar(total_reviews_by_country, title)"
   ]
  },
  {
   "cell_type": "markdown",
   "id": "641e746c-bd52-46af-964f-1cd2c9658bf9",
   "metadata": {},
   "source": [
    "#### Is the cacao bean's origin an indicator of quality?"
   ]
  },
  {
   "cell_type": "code",
   "execution_count": 10,
   "id": "b88b663a-59c6-4b7e-a511-2404989cf4a0",
   "metadata": {},
   "outputs": [
    {
     "data": {
      "image/png": "[encoded data removed]",
      "text/plain": [
       "<Figure size 432x288 with 1 Axes>"
      ]
     },
     "metadata": {
      "needs_background": "light"
     },
     "output_type": "display_data"
    }
   ],
   "source": [
    "#\"rating\" - 1.0-1.9 Unpleasant, 2.0-2.9 Disappointing, 3.0-3.49 Recommended, 3.5-3.9 Highly Recommended, 4.0-5.0 Oustanding\n",
    "ranges = [1.0 ,1.9, 2.9, 3.49, 3.9, 5.0]\n",
    "labels = [\"Unpleasant\" , \"Disappointing\", \"Recommended\", \"Highly Recommended\", \"Oustanding\"]\n",
    "categorical_values = pd.cut(df.rating, bins= ranges, labels= labels).value_counts()\n",
    "fig, ax = plt.subplots()\n",
    "bars = ax.barh(labels,categorical_values)\n",
    "ax.set_title(\"Categorical reviews on Chocolate bars\")\n",
    "for i, v in enumerate(categorical_values.values):\n",
    "    ax.text(v + 3, i - .15, str(v), color='blue', fontweight='bold')\n",
    "plt.grid()\n",
    "plt.show()\n",
    "#categorical_values"
   ]
  },
  {
   "cell_type": "code",
   "execution_count": 11,
   "id": "2d2083ad-6f05-4308-8c8c-2b5d7005b52e",
   "metadata": {},
   "outputs": [],
   "source": [
    "def top_5_bean_origin_stats(df):\n",
    "    \"\"\"\n",
    "    This function return a statistic review on top 5 bean origin\n",
    "    Input : df\n",
    "    Output: return top 5 beans origin with average cocoa_percent,num_ingredients,rating and total_manufactures\n",
    "    \"\"\"\n",
    "    df = df.groupby('bean_origin').agg(\n",
    "            avg_cocoa_percent = (\"cocoa_percent\", 'mean'),\n",
    "            avg_num_ingredients = (\"num_ingredients\", 'mean'),\n",
    "            avg_rating = ('rating', 'mean'),\n",
    "            total_manufactures = ('company_location','count')).sort_values(by='total_manufactures', ascending = False).head(5)\n",
    "    return df"
   ]
  },
  {
   "cell_type": "code",
   "execution_count": 12,
   "id": "08e45ef6-ba85-49a4-af1e-04a1e89a5dd0",
   "metadata": {},
   "outputs": [
    {
     "data": {
      "application/com.datacamp.data-table.v1+json": {
       "is_truncated": false,
       "table": {
        "data": [
         {
          "avg_cocoa_percent": 72.0177865613,
          "avg_num_ingredients": 3.162601626,
          "avg_rating": 3.2312252964,
          "bean_origin": "Venezuela",
          "total_manufactures": 253
         },
         {
          "avg_cocoa_percent": 70.9508196721,
          "avg_num_ingredients": 2.9350649351,
          "avg_rating": 3.1977459016,
          "bean_origin": "Peru",
          "total_manufactures": 244
         },
         {
          "avg_cocoa_percent": 71.5265486726,
          "avg_num_ingredients": 2.8545454545,
          "avg_rating": 3.2157079646,
          "bean_origin": "Dominican Republic",
          "total_manufactures": 226
         },
         {
          "avg_cocoa_percent": 73.2762557078,
          "avg_num_ingredients": 3.1343283582,
          "avg_rating": 3.1643835616,
          "bean_origin": "Ecuador",
          "total_manufactures": 219
         },
         {
          "avg_cocoa_percent": 71.2372881356,
          "avg_num_ingredients": 2.9941520468,
          "avg_rating": 3.2669491525,
          "bean_origin": "Madagascar",
          "total_manufactures": 177
         }
        ],
        "schema": {
         "fields": [
          {
           "name": "bean_origin",
           "type": "string"
          },
          {
           "name": "avg_cocoa_percent",
           "type": "number"
          },
          {
           "name": "avg_num_ingredients",
           "type": "number"
          },
          {
           "name": "avg_rating",
           "type": "number"
          },
          {
           "name": "total_manufactures",
           "type": "integer"
          }
         ],
         "pandas_version": "0.20.0",
         "primaryKey": [
          "bean_origin"
         ]
        }
       },
       "total_rows": 5
      },
      "text/html": [
       "<div>\n",
       "<style scoped>\n",
       "    .dataframe tbody tr th:only-of-type {\n",
       "        vertical-align: middle;\n",
       "    }\n",
       "\n",
       "    .dataframe tbody tr th {\n",
       "        vertical-align: top;\n",
       "    }\n",
       "\n",
       "    .dataframe thead th {\n",
       "        text-align: right;\n",
       "    }\n",
       "</style>\n",
       "<table border=\"1\" class=\"dataframe\">\n",
       "  <thead>\n",
       "    <tr style=\"text-align: right;\">\n",
       "      <th></th>\n",
       "      <th>avg_cocoa_percent</th>\n",
       "      <th>avg_num_ingredients</th>\n",
       "      <th>avg_rating</th>\n",
       "      <th>total_manufactures</th>\n",
       "    </tr>\n",
       "    <tr>\n",
       "      <th>bean_origin</th>\n",
       "      <th></th>\n",
       "      <th></th>\n",
       "      <th></th>\n",
       "      <th></th>\n",
       "    </tr>\n",
       "  </thead>\n",
       "  <tbody>\n",
       "    <tr>\n",
       "      <th>Venezuela</th>\n",
       "      <td>72.017787</td>\n",
       "      <td>3.162602</td>\n",
       "      <td>3.231225</td>\n",
       "      <td>253</td>\n",
       "    </tr>\n",
       "    <tr>\n",
       "      <th>Peru</th>\n",
       "      <td>70.950820</td>\n",
       "      <td>2.935065</td>\n",
       "      <td>3.197746</td>\n",
       "      <td>244</td>\n",
       "    </tr>\n",
       "    <tr>\n",
       "      <th>Dominican Republic</th>\n",
       "      <td>71.526549</td>\n",
       "      <td>2.854545</td>\n",
       "      <td>3.215708</td>\n",
       "      <td>226</td>\n",
       "    </tr>\n",
       "    <tr>\n",
       "      <th>Ecuador</th>\n",
       "      <td>73.276256</td>\n",
       "      <td>3.134328</td>\n",
       "      <td>3.164384</td>\n",
       "      <td>219</td>\n",
       "    </tr>\n",
       "    <tr>\n",
       "      <th>Madagascar</th>\n",
       "      <td>71.237288</td>\n",
       "      <td>2.994152</td>\n",
       "      <td>3.266949</td>\n",
       "      <td>177</td>\n",
       "    </tr>\n",
       "  </tbody>\n",
       "</table>\n",
       "</div>"
      ],
      "text/plain": [
       "                    avg_cocoa_percent  avg_num_ingredients  avg_rating  \\\n",
       "bean_origin                                                              \n",
       "Venezuela                   72.017787             3.162602    3.231225   \n",
       "Peru                        70.950820             2.935065    3.197746   \n",
       "Dominican Republic          71.526549             2.854545    3.215708   \n",
       "Ecuador                     73.276256             3.134328    3.164384   \n",
       "Madagascar                  71.237288             2.994152    3.266949   \n",
       "\n",
       "                    total_manufactures  \n",
       "bean_origin                             \n",
       "Venezuela                          253  \n",
       "Peru                               244  \n",
       "Dominican Republic                 226  \n",
       "Ecuador                            219  \n",
       "Madagascar                         177  "
      ]
     },
     "execution_count": 12,
     "metadata": {},
     "output_type": "execute_result"
    }
   ],
   "source": [
    "#check on orginal datasets\n",
    "top_5_bean_origin_stats(df)"
   ]
  },
  {
   "cell_type": "code",
   "execution_count": 13,
   "id": "ce7c3217-0719-4f51-934b-21ac86c280d2",
   "metadata": {},
   "outputs": [
    {
     "name": "stdout",
     "output_type": "stream",
     "text": [
      "Top 5 average rating greater than  3.0\n"
     ]
    },
    {
     "data": {
      "application/com.datacamp.data-table.v1+json": {
       "is_truncated": false,
       "table": {
        "data": [
         {
          "avg_cocoa_percent": 71.6683417085,
          "avg_num_ingredients": 3.1443298969,
          "avg_rating": 3.4070351759,
          "bean_origin": "Venezuela",
          "total_manufactures": 199
         },
         {
          "avg_cocoa_percent": 70.9065934066,
          "avg_num_ingredients": 2.8707865169,
          "avg_rating": 3.3543956044,
          "bean_origin": "Dominican Republic",
          "total_manufactures": 182
         },
         {
          "avg_cocoa_percent": 70.9329608939,
          "avg_num_ingredients": 2.8971428571,
          "avg_rating": 3.4273743017,
          "bean_origin": "Peru",
          "total_manufactures": 179
         },
         {
          "avg_cocoa_percent": 72.1049382716,
          "avg_num_ingredients": 3.1233766234,
          "avg_rating": 3.4058641975,
          "bean_origin": "Ecuador",
          "total_manufactures": 162
         },
         {
          "avg_cocoa_percent": 70.9081632653,
          "avg_num_ingredients": 2.985915493,
          "avg_rating": 3.3843537415,
          "bean_origin": "Madagascar",
          "total_manufactures": 147
         }
        ],
        "schema": {
         "fields": [
          {
           "name": "bean_origin",
           "type": "string"
          },
          {
           "name": "avg_cocoa_percent",
           "type": "number"
          },
          {
           "name": "avg_num_ingredients",
           "type": "number"
          },
          {
           "name": "avg_rating",
           "type": "number"
          },
          {
           "name": "total_manufactures",
           "type": "integer"
          }
         ],
         "pandas_version": "0.20.0",
         "primaryKey": [
          "bean_origin"
         ]
        }
       },
       "total_rows": 5
      },
      "text/html": [
       "<div>\n",
       "<style scoped>\n",
       "    .dataframe tbody tr th:only-of-type {\n",
       "        vertical-align: middle;\n",
       "    }\n",
       "\n",
       "    .dataframe tbody tr th {\n",
       "        vertical-align: top;\n",
       "    }\n",
       "\n",
       "    .dataframe thead th {\n",
       "        text-align: right;\n",
       "    }\n",
       "</style>\n",
       "<table border=\"1\" class=\"dataframe\">\n",
       "  <thead>\n",
       "    <tr style=\"text-align: right;\">\n",
       "      <th></th>\n",
       "      <th>avg_cocoa_percent</th>\n",
       "      <th>avg_num_ingredients</th>\n",
       "      <th>avg_rating</th>\n",
       "      <th>total_manufactures</th>\n",
       "    </tr>\n",
       "    <tr>\n",
       "      <th>bean_origin</th>\n",
       "      <th></th>\n",
       "      <th></th>\n",
       "      <th></th>\n",
       "      <th></th>\n",
       "    </tr>\n",
       "  </thead>\n",
       "  <tbody>\n",
       "    <tr>\n",
       "      <th>Venezuela</th>\n",
       "      <td>71.668342</td>\n",
       "      <td>3.144330</td>\n",
       "      <td>3.407035</td>\n",
       "      <td>199</td>\n",
       "    </tr>\n",
       "    <tr>\n",
       "      <th>Dominican Republic</th>\n",
       "      <td>70.906593</td>\n",
       "      <td>2.870787</td>\n",
       "      <td>3.354396</td>\n",
       "      <td>182</td>\n",
       "    </tr>\n",
       "    <tr>\n",
       "      <th>Peru</th>\n",
       "      <td>70.932961</td>\n",
       "      <td>2.897143</td>\n",
       "      <td>3.427374</td>\n",
       "      <td>179</td>\n",
       "    </tr>\n",
       "    <tr>\n",
       "      <th>Ecuador</th>\n",
       "      <td>72.104938</td>\n",
       "      <td>3.123377</td>\n",
       "      <td>3.405864</td>\n",
       "      <td>162</td>\n",
       "    </tr>\n",
       "    <tr>\n",
       "      <th>Madagascar</th>\n",
       "      <td>70.908163</td>\n",
       "      <td>2.985915</td>\n",
       "      <td>3.384354</td>\n",
       "      <td>147</td>\n",
       "    </tr>\n",
       "  </tbody>\n",
       "</table>\n",
       "</div>"
      ],
      "text/plain": [
       "                    avg_cocoa_percent  avg_num_ingredients  avg_rating  \\\n",
       "bean_origin                                                              \n",
       "Venezuela                   71.668342             3.144330    3.407035   \n",
       "Dominican Republic          70.906593             2.870787    3.354396   \n",
       "Peru                        70.932961             2.897143    3.427374   \n",
       "Ecuador                     72.104938             3.123377    3.405864   \n",
       "Madagascar                  70.908163             2.985915    3.384354   \n",
       "\n",
       "                    total_manufactures  \n",
       "bean_origin                             \n",
       "Venezuela                          199  \n",
       "Dominican Republic                 182  \n",
       "Peru                               179  \n",
       "Ecuador                            162  \n",
       "Madagascar                         147  "
      ]
     },
     "metadata": {},
     "output_type": "display_data"
    },
    {
     "name": "stdout",
     "output_type": "stream",
     "text": [
      "Top 5 average rating greater than  3.5\n"
     ]
    },
    {
     "data": {
      "application/com.datacamp.data-table.v1+json": {
       "is_truncated": false,
       "table": {
        "data": [
         {
          "avg_cocoa_percent": 71.1926605505,
          "avg_num_ingredients": 3.1111111111,
          "avg_rating": 3.6766055046,
          "bean_origin": "Venezuela",
          "total_manufactures": 109
         },
         {
          "avg_cocoa_percent": 70.51,
          "avg_num_ingredients": 2.7755102041,
          "avg_rating": 3.67,
          "bean_origin": "Peru",
          "total_manufactures": 100
         },
         {
          "avg_cocoa_percent": 72.3846153846,
          "avg_num_ingredients": 3.1590909091,
          "avg_rating": 3.6153846154,
          "bean_origin": "Ecuador",
          "total_manufactures": 91
         },
         {
          "avg_cocoa_percent": 70.3,
          "avg_num_ingredients": 2.9523809524,
          "avg_rating": 3.6205882353,
          "bean_origin": "Dominican Republic",
          "total_manufactures": 85
         },
         {
          "avg_cocoa_percent": 70.225,
          "avg_num_ingredients": 3.0769230769,
          "avg_rating": 3.628125,
          "bean_origin": "Madagascar",
          "total_manufactures": 80
         }
        ],
        "schema": {
         "fields": [
          {
           "name": "bean_origin",
           "type": "string"
          },
          {
           "name": "avg_cocoa_percent",
           "type": "number"
          },
          {
           "name": "avg_num_ingredients",
           "type": "number"
          },
          {
           "name": "avg_rating",
           "type": "number"
          },
          {
           "name": "total_manufactures",
           "type": "integer"
          }
         ],
         "pandas_version": "0.20.0",
         "primaryKey": [
          "bean_origin"
         ]
        }
       },
       "total_rows": 5
      },
      "text/html": [
       "<div>\n",
       "<style scoped>\n",
       "    .dataframe tbody tr th:only-of-type {\n",
       "        vertical-align: middle;\n",
       "    }\n",
       "\n",
       "    .dataframe tbody tr th {\n",
       "        vertical-align: top;\n",
       "    }\n",
       "\n",
       "    .dataframe thead th {\n",
       "        text-align: right;\n",
       "    }\n",
       "</style>\n",
       "<table border=\"1\" class=\"dataframe\">\n",
       "  <thead>\n",
       "    <tr style=\"text-align: right;\">\n",
       "      <th></th>\n",
       "      <th>avg_cocoa_percent</th>\n",
       "      <th>avg_num_ingredients</th>\n",
       "      <th>avg_rating</th>\n",
       "      <th>total_manufactures</th>\n",
       "    </tr>\n",
       "    <tr>\n",
       "      <th>bean_origin</th>\n",
       "      <th></th>\n",
       "      <th></th>\n",
       "      <th></th>\n",
       "      <th></th>\n",
       "    </tr>\n",
       "  </thead>\n",
       "  <tbody>\n",
       "    <tr>\n",
       "      <th>Venezuela</th>\n",
       "      <td>71.192661</td>\n",
       "      <td>3.111111</td>\n",
       "      <td>3.676606</td>\n",
       "      <td>109</td>\n",
       "    </tr>\n",
       "    <tr>\n",
       "      <th>Peru</th>\n",
       "      <td>70.510000</td>\n",
       "      <td>2.775510</td>\n",
       "      <td>3.670000</td>\n",
       "      <td>100</td>\n",
       "    </tr>\n",
       "    <tr>\n",
       "      <th>Ecuador</th>\n",
       "      <td>72.384615</td>\n",
       "      <td>3.159091</td>\n",
       "      <td>3.615385</td>\n",
       "      <td>91</td>\n",
       "    </tr>\n",
       "    <tr>\n",
       "      <th>Dominican Republic</th>\n",
       "      <td>70.300000</td>\n",
       "      <td>2.952381</td>\n",
       "      <td>3.620588</td>\n",
       "      <td>85</td>\n",
       "    </tr>\n",
       "    <tr>\n",
       "      <th>Madagascar</th>\n",
       "      <td>70.225000</td>\n",
       "      <td>3.076923</td>\n",
       "      <td>3.628125</td>\n",
       "      <td>80</td>\n",
       "    </tr>\n",
       "  </tbody>\n",
       "</table>\n",
       "</div>"
      ],
      "text/plain": [
       "                    avg_cocoa_percent  avg_num_ingredients  avg_rating  \\\n",
       "bean_origin                                                              \n",
       "Venezuela                   71.192661             3.111111    3.676606   \n",
       "Peru                        70.510000             2.775510    3.670000   \n",
       "Ecuador                     72.384615             3.159091    3.615385   \n",
       "Dominican Republic          70.300000             2.952381    3.620588   \n",
       "Madagascar                  70.225000             3.076923    3.628125   \n",
       "\n",
       "                    total_manufactures  \n",
       "bean_origin                             \n",
       "Venezuela                          109  \n",
       "Peru                               100  \n",
       "Ecuador                             91  \n",
       "Dominican Republic                  85  \n",
       "Madagascar                          80  "
      ]
     },
     "metadata": {},
     "output_type": "display_data"
    },
    {
     "name": "stdout",
     "output_type": "stream",
     "text": [
      "Top 5 average rating greater than  4.0\n"
     ]
    },
    {
     "data": {
      "application/com.datacamp.data-table.v1+json": {
       "is_truncated": false,
       "table": {
        "data": [
         {
          "avg_cocoa_percent": 71.05,
          "avg_num_ingredients": 3.1,
          "avg_rating": 4,
          "bean_origin": "Venezuela",
          "total_manufactures": 20
         },
         {
          "avg_cocoa_percent": 70,
          "avg_num_ingredients": 3.0526315789,
          "avg_rating": 4,
          "bean_origin": "Peru",
          "total_manufactures": 19
         },
         {
          "avg_cocoa_percent": 70.2727272727,
          "avg_num_ingredients": 3.3636363636,
          "avg_rating": 4,
          "bean_origin": "Madagascar",
          "total_manufactures": 11
         },
         {
          "avg_cocoa_percent": 70.875,
          "avg_num_ingredients": 3.125,
          "avg_rating": 4,
          "bean_origin": "Ecuador",
          "total_manufactures": 8
         },
         {
          "avg_cocoa_percent": 72.8571428571,
          "avg_num_ingredients": 3.2857142857,
          "avg_rating": 4,
          "bean_origin": "Blend",
          "total_manufactures": 7
         }
        ],
        "schema": {
         "fields": [
          {
           "name": "bean_origin",
           "type": "string"
          },
          {
           "name": "avg_cocoa_percent",
           "type": "number"
          },
          {
           "name": "avg_num_ingredients",
           "type": "number"
          },
          {
           "name": "avg_rating",
           "type": "number"
          },
          {
           "name": "total_manufactures",
           "type": "integer"
          }
         ],
         "pandas_version": "0.20.0",
         "primaryKey": [
          "bean_origin"
         ]
        }
       },
       "total_rows": 5
      },
      "text/html": [
       "<div>\n",
       "<style scoped>\n",
       "    .dataframe tbody tr th:only-of-type {\n",
       "        vertical-align: middle;\n",
       "    }\n",
       "\n",
       "    .dataframe tbody tr th {\n",
       "        vertical-align: top;\n",
       "    }\n",
       "\n",
       "    .dataframe thead th {\n",
       "        text-align: right;\n",
       "    }\n",
       "</style>\n",
       "<table border=\"1\" class=\"dataframe\">\n",
       "  <thead>\n",
       "    <tr style=\"text-align: right;\">\n",
       "      <th></th>\n",
       "      <th>avg_cocoa_percent</th>\n",
       "      <th>avg_num_ingredients</th>\n",
       "      <th>avg_rating</th>\n",
       "      <th>total_manufactures</th>\n",
       "    </tr>\n",
       "    <tr>\n",
       "      <th>bean_origin</th>\n",
       "      <th></th>\n",
       "      <th></th>\n",
       "      <th></th>\n",
       "      <th></th>\n",
       "    </tr>\n",
       "  </thead>\n",
       "  <tbody>\n",
       "    <tr>\n",
       "      <th>Venezuela</th>\n",
       "      <td>71.050000</td>\n",
       "      <td>3.100000</td>\n",
       "      <td>4.0</td>\n",
       "      <td>20</td>\n",
       "    </tr>\n",
       "    <tr>\n",
       "      <th>Peru</th>\n",
       "      <td>70.000000</td>\n",
       "      <td>3.052632</td>\n",
       "      <td>4.0</td>\n",
       "      <td>19</td>\n",
       "    </tr>\n",
       "    <tr>\n",
       "      <th>Madagascar</th>\n",
       "      <td>70.272727</td>\n",
       "      <td>3.363636</td>\n",
       "      <td>4.0</td>\n",
       "      <td>11</td>\n",
       "    </tr>\n",
       "    <tr>\n",
       "      <th>Ecuador</th>\n",
       "      <td>70.875000</td>\n",
       "      <td>3.125000</td>\n",
       "      <td>4.0</td>\n",
       "      <td>8</td>\n",
       "    </tr>\n",
       "    <tr>\n",
       "      <th>Blend</th>\n",
       "      <td>72.857143</td>\n",
       "      <td>3.285714</td>\n",
       "      <td>4.0</td>\n",
       "      <td>7</td>\n",
       "    </tr>\n",
       "  </tbody>\n",
       "</table>\n",
       "</div>"
      ],
      "text/plain": [
       "             avg_cocoa_percent  avg_num_ingredients  avg_rating  \\\n",
       "bean_origin                                                       \n",
       "Venezuela            71.050000             3.100000         4.0   \n",
       "Peru                 70.000000             3.052632         4.0   \n",
       "Madagascar           70.272727             3.363636         4.0   \n",
       "Ecuador              70.875000             3.125000         4.0   \n",
       "Blend                72.857143             3.285714         4.0   \n",
       "\n",
       "             total_manufactures  \n",
       "bean_origin                      \n",
       "Venezuela                    20  \n",
       "Peru                         19  \n",
       "Madagascar                   11  \n",
       "Ecuador                       8  \n",
       "Blend                         7  "
      ]
     },
     "metadata": {},
     "output_type": "display_data"
    }
   ],
   "source": [
    "#check on rating >= 3.0\n",
    "ratings = [3.0, 3.5, 4.0]\n",
    "for i in ratings:\n",
    "    print(\"Top 5 average rating greater than \", i)\n",
    "    display(top_5_bean_origin_stats(df[df.rating >= i]))"
   ]
  },
  {
   "cell_type": "markdown",
   "id": "9e01d08c-bf00-424a-93fe-d1d5df858b31",
   "metadata": {},
   "source": [
    "Yes, bean origin is one of the indicators to show the quality of making cholocate bars.  \n",
    "The average ratings are less than 4.0, the top-5 beans are from Venezuela, Peru, Dominican Republic, Ecuador, and Madagascar. They have the highest demand for beans for chocolate bar manufacturing suppliers."
   ]
  },
  {
   "cell_type": "markdown",
   "id": "c2a97286-ae44-4577-8753-fcb4211a7b5a",
   "metadata": {},
   "source": [
    "#### [Optional] How does cocoa content relate to rating? What is the average cocoa content for bars with higher ratings (above 3.5)?"
   ]
  },
  {
   "cell_type": "markdown",
   "id": "d055669b-6cad-4ac5-b43e-36cf5e8db472",
   "metadata": {},
   "source": [
    "The higher ratings on each average cocoa_percent tends to become less. The average cocoa content for bars has around 70%\n",
    "\n",
    "For example, Let us focuse on ratings less than 4.0\n",
    "\n",
    "|bean_origin   | Condition  | avg_cocoa_percent|\n",
    "| -----------  | -----------| -----------------|\n",
    "|Venezuela     | NA         | 72.017787        |\n",
    "|              | rating >3.0| 71.668342        |\n",
    "|              | rating >3.5| 71.192661        |\n",
    "\n",
    "\n",
    "|bean_origin   | Condition  | avg_cocoa_percent|\n",
    "| -----------  | -----------| -----------------|\n",
    "|Peru          | NA         | 70.950820        |\n",
    "|              | rating >3.0| 70.932961        |\n",
    "|              | rating >3.5| 70.510000        |\n",
    "\n",
    "\n",
    "|bean_origin   | Condition  | avg_cocoa_percent|\n",
    "| -----------  | -----------| -----------------|\n",
    "|Ecuador       | NA         | 73.276256        |\n",
    "|              | rating >3.0| 72.104938        |\n",
    "|              | rating >3.5| 72.384615        |\n",
    "\n",
    "|bean_origin   | Condition  | avg_cocoa_percent|\n",
    "| -----------  | -----------| -----------------|\n",
    "|Dominican Republic| NA         | 71.526549        |\n",
    "|                  | rating >3.0| 70.906593        |\n",
    "|                  | rating >3.5| 70.300000        |\n",
    "\n",
    "|bean_origin   | Condition  | avg_cocoa_percent|\n",
    "| -----------  | -----------| -----------------|\n",
    "|Madagascar    | NA         | 71.526549        |\n",
    "|              | rating >3.0| 70.908163        |\n",
    "|              | rating >3.5| 70.225000        |\n",
    "\n"
   ]
  },
  {
   "cell_type": "markdown",
   "id": "f7ab4b7e-ae85-4648-a8ea-8e8006252601",
   "metadata": {},
   "source": [
    "#### [Optional 2] Your research indicates that some consumers want to avoid bars with lecithin. Compare the average rating of bars with and without lecithin (L in the ingredients)."
   ]
  },
  {
   "cell_type": "code",
   "execution_count": 14,
   "id": "1168e5fe-fc5c-4aca-9462-51c540d676f8",
   "metadata": {},
   "outputs": [
    {
     "name": "stdout",
     "output_type": "stream",
     "text": [
      "Average rating of bars with lecithin is 3.150608519269777\n",
      "Average rating of bars without lecithin is 3.2251282051282053\n"
     ]
    }
   ],
   "source": [
    "# the original data contatins missing values on ingredient column, let us drop them\n",
    "temp_df = df.dropna(subset=['ingredients'])\n",
    "\n",
    "#with L\n",
    "avg_rating_with_L = temp_df[temp_df.ingredients.str.contains('L')]['rating'].mean()\n",
    "print(\"Average rating of bars with lecithin is\", avg_rating_with_L)\n",
    "\n",
    "#without L\n",
    "avg_rating_with_L = temp_df[~temp_df.ingredients.str.contains('L')]['rating'].mean()\n",
    "print(\"Average rating of bars without lecithin is\", avg_rating_with_L)"
   ]
  }
 ],
 "metadata": {
  "kernelspec": {
   "display_name": "Python 3 (ipykernel)",
   "language": "python",
   "name": "python3"
  },
  "language_info": {
   "codemirror_mode": {
    "name": "ipython",
    "version": 3
   },
   "file_extension": ".py",
   "mimetype": "text/x-python",
   "name": "python",
   "nbconvert_exporter": "python",
   "pygments_lexer": "ipython3",
   "version": "3.8.10"
  }
 },
 "nbformat": 4,
 "nbformat_minor": 5
}

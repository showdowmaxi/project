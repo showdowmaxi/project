{
 "cells": [
  {
   "cell_type": "markdown",
   "metadata": {
    "dc": {
     "key": "3"
    },
    "deletable": false,
    "editable": false,
    "run_control": {
     "frozen": true
    },
    "tags": [
     "context"
    ]
   },
   "source": [
    "## Writing functions to forecast food prices in Rwanda\n",
    "<p>Every time I go to the supermarket, my wallet weeps a little. But how expensive is food around the world? In this notebook, we'll explore time series of food prices in Rwanda from the <a href=\"https://data.humdata.org/dataset/wfp-food-prices\">United Nations Humanitarian Data Exchange Global Food Price Database</a>. Agriculture makes up over 30% of Rwanda's economy, and over 60% of its export earnings (<a href=\"https://www.cia.gov/library/publications/the-world-factbook/geos/rw.html\">CIA World Factbook</a>), so the price of food is very important to the livelihood of many Rwandans.</p>\n",
    "<p>The map below shows the layout of Rwanda; it is split into five administrative regions. The central area around the Capital city, Kigali, is one region, and the others are North, East, South, and West.</p>\n",
    "<p><img src=\"https://assets.datacamp.com/production/project_1008/img/RwandaGeoProvinces.png\" alt=\"A map of the five administrative regions of Rwanda\"></p>\n",
    "<p>In this notebook, we're going to import, manipulate and forecast Rwandan sorghum price data. We'll also wrap our analysis into functions to make it easy to analyze prices of other foods.</p>\n",
    "<p>The sorghum data is stored in the file <code>datasets/Sorghum.csv</code>. Each row contains the price of sorghum at one market on one day. It contains 18 columns.</p>\n",
    "<table>\n",
    "<thead>\n",
    "<tr>\n",
    "<th style=\"text-align:left;\">column</th>\n",
    "<th>type</th>\n",
    "<th style=\"text-align:left;\">meaning</th>\n",
    "</tr>\n",
    "</thead>\n",
    "<tbody>\n",
    "<tr>\n",
    "<td style=\"text-align:left;\"><code>adm0_id</code></td>\n",
    "<td><code>int</code></td>\n",
    "<td style=\"text-align:left;\">Country code. Always 215.</td>\n",
    "</tr>\n",
    "<tr>\n",
    "<td style=\"text-align:left;\"><code>adm0_name</code></td>\n",
    "<td><code>chr</code></td>\n",
    "<td style=\"text-align:left;\">Country name. Always \"Rwanda\".</td>\n",
    "</tr>\n",
    "<tr>\n",
    "<td style=\"text-align:left;\"><code>adm1_id</code></td>\n",
    "<td><code>int</code></td>\n",
    "<td style=\"text-align:left;\">Region code.</td>\n",
    "</tr>\n",
    "<tr>\n",
    "<td style=\"text-align:left;\"><code>adm1_name</code></td>\n",
    "<td><code>chr</code></td>\n",
    "<td style=\"text-align:left;\">Region name.</td>\n",
    "</tr>\n",
    "<tr>\n",
    "<td style=\"text-align:left;\"><code>mkt_id</code></td>\n",
    "<td><code>int</code></td>\n",
    "<td style=\"text-align:left;\">Market code.</td>\n",
    "</tr>\n",
    "<tr>\n",
    "<td style=\"text-align:left;\"><code>mkt_name</code></td>\n",
    "<td><code>chr</code></td>\n",
    "<td style=\"text-align:left;\">Market name.</td>\n",
    "</tr>\n",
    "<tr>\n",
    "<td style=\"text-align:left;\"><code>cm_id</code></td>\n",
    "<td><code>int</code></td>\n",
    "<td style=\"text-align:left;\">Commodity code.</td>\n",
    "</tr>\n",
    "<tr>\n",
    "<td style=\"text-align:left;\"><code>cm_name</code></td>\n",
    "<td><code>chr</code></td>\n",
    "<td style=\"text-align:left;\">Commodity name.</td>\n",
    "</tr>\n",
    "<tr>\n",
    "<td style=\"text-align:left;\"><code>cur_id</code></td>\n",
    "<td><code>int</code></td>\n",
    "<td style=\"text-align:left;\">Currency code. Always 77.</td>\n",
    "</tr>\n",
    "<tr>\n",
    "<td style=\"text-align:left;\"><code>cur_name</code></td>\n",
    "<td><code>chr</code></td>\n",
    "<td style=\"text-align:left;\">Currency name. Always \"RWF\".</td>\n",
    "</tr>\n",
    "<tr>\n",
    "<td style=\"text-align:left;\"><code>pt_id</code></td>\n",
    "<td><code>int</code></td>\n",
    "<td style=\"text-align:left;\">Price type code. Always 15.</td>\n",
    "</tr>\n",
    "<tr>\n",
    "<td style=\"text-align:left;\"><code>pt_name</code></td>\n",
    "<td><code>chr</code></td>\n",
    "<td style=\"text-align:left;\">Price type name. Always \"Retail\".</td>\n",
    "</tr>\n",
    "<tr>\n",
    "<td style=\"text-align:left;\"><code>um_id</code></td>\n",
    "<td><code>int</code></td>\n",
    "<td style=\"text-align:left;\">Unit of measurement code.</td>\n",
    "</tr>\n",
    "<tr>\n",
    "<td style=\"text-align:left;\"><code>um_name</code></td>\n",
    "<td><code>chr</code></td>\n",
    "<td style=\"text-align:left;\">Unit of measurement name. Always \"KG\".</td>\n",
    "</tr>\n",
    "<tr>\n",
    "<td style=\"text-align:left;\"><code>mp_month</code></td>\n",
    "<td><code>int</code></td>\n",
    "<td style=\"text-align:left;\">Month when price occurred.</td>\n",
    "</tr>\n",
    "<tr>\n",
    "<td style=\"text-align:left;\"><code>mp_year</code></td>\n",
    "<td><code>int</code></td>\n",
    "<td style=\"text-align:left;\">Year when price occurred. 2008 to 2015.</td>\n",
    "</tr>\n",
    "<tr>\n",
    "<td style=\"text-align:left;\"><code>mp_price</code></td>\n",
    "<td><code>dbl</code></td>\n",
    "<td style=\"text-align:left;\">Price of 1 unit of commodity in currency.</td>\n",
    "</tr>\n",
    "<tr>\n",
    "<td style=\"text-align:left;\"><code>mp_commoditysource</code></td>\n",
    "<td><code>chr</code></td>\n",
    "<td style=\"text-align:left;\">Data source. Always \"MINAGRI\".</td>\n",
    "</tr>\n",
    "</tbody>\n",
    "</table>"
   ]
  },
  {
   "cell_type": "markdown",
   "metadata": {
    "collapsed": true,
    "dc": {
     "key": "3"
    },
    "tags": [
     "sample_code"
    ]
   },
   "source": [
    "## Questions\n",
    "1. Write a function that imports a commodity CSV file and returns the median price of the commodity in Rwandan Francs (RWF) on each date.\n",
    "\n",
    "2. Write a function that accepts the median price data and returns the forecasted price for that commodity over the next two years."
   ]
  },
  {
   "cell_type": "code",
   "execution_count": 1,
   "metadata": {
    "dc": {
     "key": "3"
    }
   },
   "outputs": [
    {
     "name": "stderr",
     "output_type": "stream",
     "text": [
      "\n",
      "Attaching package: 'lubridate'\n",
      "\n",
      "The following object is masked from 'package:base':\n",
      "\n",
      "    date\n",
      "\n",
      "\n",
      "Attaching package: 'dplyr'\n",
      "\n",
      "The following objects are masked from 'package:lubridate':\n",
      "\n",
      "    intersect, setdiff, union\n",
      "\n",
      "The following objects are masked from 'package:stats':\n",
      "\n",
      "    filter, lag\n",
      "\n",
      "The following objects are masked from 'package:base':\n",
      "\n",
      "    intersect, setdiff, setequal, union\n",
      "\n",
      "Registered S3 methods overwritten by 'ggplot2':\n",
      "  method         from \n",
      "  [.quosures     rlang\n",
      "  c.quosures     rlang\n",
      "  print.quosures rlang\n",
      "Registered S3 method overwritten by 'xts':\n",
      "  method     from\n",
      "  as.zoo.xts zoo \n",
      "Registered S3 method overwritten by 'quantmod':\n",
      "  method            from\n",
      "  as.zoo.data.frame zoo \n",
      "Registered S3 methods overwritten by 'forecast':\n",
      "  method             from    \n",
      "  fitted.fracdiff    fracdiff\n",
      "  residuals.fracdiff fracdiff\n"
     ]
    }
   ],
   "source": [
    "library(readr)\n",
    "library(lubridate)\n",
    "library(dplyr)\n",
    "library(ggplot2)\n",
    "library(forecast)\n",
    "library(magrittr)"
   ]
  },
  {
   "cell_type": "markdown",
   "metadata": {
    "dc": {
     "key": "3"
    }
   },
   "source": [
    "### 1. Write a function that imports a commodity CSV file and returns the median price of the commodity in Rwandan Francs (RWF) on each date.\n"
   ]
  },
  {
   "cell_type": "code",
   "execution_count": 2,
   "metadata": {
    "dc": {
     "key": "3"
    }
   },
   "outputs": [
    {
     "name": "stderr",
     "output_type": "stream",
     "text": [
      "Parsed with column specification:\n",
      "cols(\n",
      "  adm0_id = col_double(),\n",
      "  adm0_name = col_character(),\n",
      "  adm1_id = col_double(),\n",
      "  adm1_name = col_character(),\n",
      "  mkt_id = col_double(),\n",
      "  mkt_name = col_character(),\n",
      "  cm_id = col_double(),\n",
      "  cm_name = col_character(),\n",
      "  cur_id = col_double(),\n",
      "  cur_name = col_character(),\n",
      "  pt_id = col_double(),\n",
      "  pt_name = col_character(),\n",
      "  um_id = col_double(),\n",
      "  um_name = col_character(),\n",
      "  mp_month = col_double(),\n",
      "  mp_year = col_double(),\n",
      "  mp_price = col_double(),\n",
      "  mp_commoditysource = col_character()\n",
      ")\n"
     ]
    },
    {
     "data": {
      "text/html": [
       "<table>\n",
       "<thead><tr><th scope=col>adm0_id</th><th scope=col>adm0_name</th><th scope=col>adm1_id</th><th scope=col>adm1_name</th><th scope=col>mkt_id</th><th scope=col>mkt_name</th><th scope=col>cm_id</th><th scope=col>cm_name</th><th scope=col>cur_id</th><th scope=col>cur_name</th><th scope=col>pt_id</th><th scope=col>pt_name</th><th scope=col>um_id</th><th scope=col>um_name</th><th scope=col>mp_month</th><th scope=col>mp_year</th><th scope=col>mp_price</th><th scope=col>mp_commoditysource</th></tr></thead>\n",
       "<tbody>\n",
       "\t<tr><td>205                 </td><td>Rwanda              </td><td>21973               </td><td>$West/Iburengerazuba</td><td>1045                </td><td>Birambo             </td><td>68                  </td><td>Cassava             </td><td>77                  </td><td>RWF                 </td><td>15                  </td><td>Retail              </td><td>5                   </td><td>KG                  </td><td>11                  </td><td>2010                </td><td>181.5000            </td><td>MINAGRI             </td></tr>\n",
       "\t<tr><td>205                 </td><td>Rwanda              </td><td>21973               </td><td>$West/Iburengerazuba</td><td>1045                </td><td>Birambo             </td><td>68                  </td><td>Cassava             </td><td>77                  </td><td>RWF                 </td><td>15                  </td><td>Retail              </td><td>5                   </td><td>KG                  </td><td>12                  </td><td>2010                </td><td>182.1667            </td><td>MINAGRI             </td></tr>\n",
       "\t<tr><td>205                 </td><td>Rwanda              </td><td>21973               </td><td>$West/Iburengerazuba</td><td>1045                </td><td>Birambo             </td><td>68                  </td><td>Cassava             </td><td>77                  </td><td>RWF                 </td><td>15                  </td><td>Retail              </td><td>5                   </td><td>KG                  </td><td> 1                  </td><td>2011                </td><td>148.0000            </td><td>MINAGRI             </td></tr>\n",
       "\t<tr><td>205                 </td><td>Rwanda              </td><td>21973               </td><td>$West/Iburengerazuba</td><td>1045                </td><td>Birambo             </td><td>68                  </td><td>Cassava             </td><td>77                  </td><td>RWF                 </td><td>15                  </td><td>Retail              </td><td>5                   </td><td>KG                  </td><td> 2                  </td><td>2011                </td><td>155.0000            </td><td>MINAGRI             </td></tr>\n",
       "\t<tr><td>205                 </td><td>Rwanda              </td><td>21973               </td><td>$West/Iburengerazuba</td><td>1045                </td><td>Birambo             </td><td>68                  </td><td>Cassava             </td><td>77                  </td><td>RWF                 </td><td>15                  </td><td>Retail              </td><td>5                   </td><td>KG                  </td><td> 3                  </td><td>2011                </td><td>178.3333            </td><td>MINAGRI             </td></tr>\n",
       "\t<tr><td>205                 </td><td>Rwanda              </td><td>21973               </td><td>$West/Iburengerazuba</td><td>1045                </td><td>Birambo             </td><td>68                  </td><td>Cassava             </td><td>77                  </td><td>RWF                 </td><td>15                  </td><td>Retail              </td><td>5                   </td><td>KG                  </td><td> 4                  </td><td>2011                </td><td>169.0000            </td><td>MINAGRI             </td></tr>\n",
       "</tbody>\n",
       "</table>\n"
      ],
      "text/latex": [
       "\\begin{tabular}{r|llllllllllllllllll}\n",
       " adm0\\_id & adm0\\_name & adm1\\_id & adm1\\_name & mkt\\_id & mkt\\_name & cm\\_id & cm\\_name & cur\\_id & cur\\_name & pt\\_id & pt\\_name & um\\_id & um\\_name & mp\\_month & mp\\_year & mp\\_price & mp\\_commoditysource\\\\\n",
       "\\hline\n",
       "\t 205                    & Rwanda                 & 21973                  & \\$West/Iburengerazuba & 1045                   & Birambo                & 68                     & Cassava                & 77                     & RWF                    & 15                     & Retail                 & 5                      & KG                     & 11                     & 2010                   & 181.5000               & MINAGRI               \\\\\n",
       "\t 205                    & Rwanda                 & 21973                  & \\$West/Iburengerazuba & 1045                   & Birambo                & 68                     & Cassava                & 77                     & RWF                    & 15                     & Retail                 & 5                      & KG                     & 12                     & 2010                   & 182.1667               & MINAGRI               \\\\\n",
       "\t 205                    & Rwanda                 & 21973                  & \\$West/Iburengerazuba & 1045                   & Birambo                & 68                     & Cassava                & 77                     & RWF                    & 15                     & Retail                 & 5                      & KG                     &  1                     & 2011                   & 148.0000               & MINAGRI               \\\\\n",
       "\t 205                    & Rwanda                 & 21973                  & \\$West/Iburengerazuba & 1045                   & Birambo                & 68                     & Cassava                & 77                     & RWF                    & 15                     & Retail                 & 5                      & KG                     &  2                     & 2011                   & 155.0000               & MINAGRI               \\\\\n",
       "\t 205                    & Rwanda                 & 21973                  & \\$West/Iburengerazuba & 1045                   & Birambo                & 68                     & Cassava                & 77                     & RWF                    & 15                     & Retail                 & 5                      & KG                     &  3                     & 2011                   & 178.3333               & MINAGRI               \\\\\n",
       "\t 205                    & Rwanda                 & 21973                  & \\$West/Iburengerazuba & 1045                   & Birambo                & 68                     & Cassava                & 77                     & RWF                    & 15                     & Retail                 & 5                      & KG                     &  4                     & 2011                   & 169.0000               & MINAGRI               \\\\\n",
       "\\end{tabular}\n"
      ],
      "text/markdown": [
       "\n",
       "| adm0_id | adm0_name | adm1_id | adm1_name | mkt_id | mkt_name | cm_id | cm_name | cur_id | cur_name | pt_id | pt_name | um_id | um_name | mp_month | mp_year | mp_price | mp_commoditysource |\n",
       "|---|---|---|---|---|---|---|---|---|---|---|---|---|---|---|---|---|---|\n",
       "| 205                  | Rwanda               | 21973                | $West/Iburengerazuba | 1045                 | Birambo              | 68                   | Cassava              | 77                   | RWF                  | 15                   | Retail               | 5                    | KG                   | 11                   | 2010                 | 181.5000             | MINAGRI              |\n",
       "| 205                  | Rwanda               | 21973                | $West/Iburengerazuba | 1045                 | Birambo              | 68                   | Cassava              | 77                   | RWF                  | 15                   | Retail               | 5                    | KG                   | 12                   | 2010                 | 182.1667             | MINAGRI              |\n",
       "| 205                  | Rwanda               | 21973                | $West/Iburengerazuba | 1045                 | Birambo              | 68                   | Cassava              | 77                   | RWF                  | 15                   | Retail               | 5                    | KG                   |  1                   | 2011                 | 148.0000             | MINAGRI              |\n",
       "| 205                  | Rwanda               | 21973                | $West/Iburengerazuba | 1045                 | Birambo              | 68                   | Cassava              | 77                   | RWF                  | 15                   | Retail               | 5                    | KG                   |  2                   | 2011                 | 155.0000             | MINAGRI              |\n",
       "| 205                  | Rwanda               | 21973                | $West/Iburengerazuba | 1045                 | Birambo              | 68                   | Cassava              | 77                   | RWF                  | 15                   | Retail               | 5                    | KG                   |  3                   | 2011                 | 178.3333             | MINAGRI              |\n",
       "| 205                  | Rwanda               | 21973                | $West/Iburengerazuba | 1045                 | Birambo              | 68                   | Cassava              | 77                   | RWF                  | 15                   | Retail               | 5                    | KG                   |  4                   | 2011                 | 169.0000             | MINAGRI              |\n",
       "\n"
      ],
      "text/plain": [
       "  adm0_id adm0_name adm1_id adm1_name            mkt_id mkt_name cm_id cm_name\n",
       "1 205     Rwanda    21973   $West/Iburengerazuba 1045   Birambo  68    Cassava\n",
       "2 205     Rwanda    21973   $West/Iburengerazuba 1045   Birambo  68    Cassava\n",
       "3 205     Rwanda    21973   $West/Iburengerazuba 1045   Birambo  68    Cassava\n",
       "4 205     Rwanda    21973   $West/Iburengerazuba 1045   Birambo  68    Cassava\n",
       "5 205     Rwanda    21973   $West/Iburengerazuba 1045   Birambo  68    Cassava\n",
       "6 205     Rwanda    21973   $West/Iburengerazuba 1045   Birambo  68    Cassava\n",
       "  cur_id cur_name pt_id pt_name um_id um_name mp_month mp_year mp_price\n",
       "1 77     RWF      15    Retail  5     KG      11       2010    181.5000\n",
       "2 77     RWF      15    Retail  5     KG      12       2010    182.1667\n",
       "3 77     RWF      15    Retail  5     KG       1       2011    148.0000\n",
       "4 77     RWF      15    Retail  5     KG       2       2011    155.0000\n",
       "5 77     RWF      15    Retail  5     KG       3       2011    178.3333\n",
       "6 77     RWF      15    Retail  5     KG       4       2011    169.0000\n",
       "  mp_commoditysource\n",
       "1 MINAGRI           \n",
       "2 MINAGRI           \n",
       "3 MINAGRI           \n",
       "4 MINAGRI           \n",
       "5 MINAGRI           \n",
       "6 MINAGRI           "
      ]
     },
     "metadata": {},
     "output_type": "display_data"
    }
   ],
   "source": [
    "df = read_csv(\"datasets/Cassava.csv\")\n",
    "head(df)"
   ]
  },
  {
   "cell_type": "code",
   "execution_count": 3,
   "metadata": {
    "dc": {
     "key": "3"
    }
   },
   "outputs": [],
   "source": [
    "get_median_price_by_date <- function(data_path){\n",
    "# this function takes a data path as input for data manipulation\n",
    "# Input : data path\n",
    "# Output : return a data frame of median price with each date\n",
    "\n",
    "# we are interested in mp_month, mp_year and mp_price\n",
    "data <- read_csv(data_path)#, col_types = cols_only(mp_month = col_double(),mp_year = col_double(),mp_price = col_double()))\n",
    "    \n",
    "#create a date column before mp_price, calculate median price of each year\n",
    "data %>% mutate(date = ymd(paste(mp_year, mp_month, \"01\"))) %>% \n",
    "        group_by(date) %>% \n",
    "        summarise(median_price_rwf = median(mp_price))\n",
    "   # return (data)\n",
    "}"
   ]
  },
  {
   "cell_type": "code",
   "execution_count": 4,
   "metadata": {},
   "outputs": [
    {
     "name": "stderr",
     "output_type": "stream",
     "text": [
      "Parsed with column specification:\n",
      "cols(\n",
      "  adm0_id = col_double(),\n",
      "  adm0_name = col_character(),\n",
      "  adm1_id = col_double(),\n",
      "  adm1_name = col_character(),\n",
      "  mkt_id = col_double(),\n",
      "  mkt_name = col_character(),\n",
      "  cm_id = col_double(),\n",
      "  cm_name = col_character(),\n",
      "  cur_id = col_double(),\n",
      "  cur_name = col_character(),\n",
      "  pt_id = col_double(),\n",
      "  pt_name = col_character(),\n",
      "  um_id = col_double(),\n",
      "  um_name = col_character(),\n",
      "  mp_month = col_double(),\n",
      "  mp_year = col_double(),\n",
      "  mp_price = col_double(),\n",
      "  mp_commoditysource = col_character()\n",
      ")\n"
     ]
    },
    {
     "data": {
      "text/html": [
       "<table>\n",
       "<thead><tr><th scope=col>date</th><th scope=col>median_price_rwf</th></tr></thead>\n",
       "<tbody>\n",
       "\t<tr><td>2008-01-01</td><td>132.5     </td></tr>\n",
       "\t<tr><td>2008-02-01</td><td>132.5     </td></tr>\n",
       "</tbody>\n",
       "</table>\n"
      ],
      "text/latex": [
       "\\begin{tabular}{r|ll}\n",
       " date & median\\_price\\_rwf\\\\\n",
       "\\hline\n",
       "\t 2008-01-01 & 132.5     \\\\\n",
       "\t 2008-02-01 & 132.5     \\\\\n",
       "\\end{tabular}\n"
      ],
      "text/markdown": [
       "\n",
       "| date | median_price_rwf |\n",
       "|---|---|\n",
       "| 2008-01-01 | 132.5      |\n",
       "| 2008-02-01 | 132.5      |\n",
       "\n"
      ],
      "text/plain": [
       "  date       median_price_rwf\n",
       "1 2008-01-01 132.5           \n",
       "2 2008-02-01 132.5           "
      ]
     },
     "metadata": {},
     "output_type": "display_data"
    }
   ],
   "source": [
    "test <- get_median_price_by_date(\"datasets/Cassava.csv\")\n",
    "head(test, 2)"
   ]
  },
  {
   "cell_type": "markdown",
   "metadata": {},
   "source": [
    "### 2. Write a function that accepts the median price data and returns the forecasted price for that commodity over the next two years."
   ]
  },
  {
   "cell_type": "code",
   "execution_count": 5,
   "metadata": {},
   "outputs": [],
   "source": [
    "forecast_price <- function(median_price_by_date){\n",
    "#This function take a dataframe to forcast the next two year based on median price\n",
    "#input : the dataframe from get_median_price_by_date()\n",
    "#output: show the forcast \n",
    "    \n",
    "#get the min and max date from df\n",
    "max_date <- max(median_price_by_date$date)\n",
    "min_date <- min(median_price_by_date$date)\n",
    "\n",
    "commodity_ts <- median_price_by_date %$% \n",
    "    ts(\n",
    "          median_price_rwf, \n",
    "          start = c(year(min_date), month(min_date)), \n",
    "          end = c(year(max_date), month(max_date)), \n",
    "          frequency = 12) \n",
    "    forecast(commodity_ts)\n",
    "}"
   ]
  },
  {
   "cell_type": "code",
   "execution_count": 6,
   "metadata": {},
   "outputs": [
    {
     "data": {
      "text/html": [
       "<ol class=list-inline>\n",
       "\t<li>'Beans (dry).csv'</li>\n",
       "\t<li>'Cassava.csv'</li>\n",
       "\t<li>'Chili (red).csv'</li>\n",
       "\t<li>'Maize.csv'</li>\n",
       "\t<li>'Oranges (big size).csv'</li>\n",
       "\t<li>'Peas (fresh).csv'</li>\n",
       "\t<li>'Potatoes (Irish).csv'</li>\n",
       "\t<li>'Sorghum.csv'</li>\n",
       "\t<li>'Tomatoes.csv'</li>\n",
       "</ol>\n"
      ],
      "text/latex": [
       "\\begin{enumerate*}\n",
       "\\item 'Beans (dry).csv'\n",
       "\\item 'Cassava.csv'\n",
       "\\item 'Chili (red).csv'\n",
       "\\item 'Maize.csv'\n",
       "\\item 'Oranges (big size).csv'\n",
       "\\item 'Peas (fresh).csv'\n",
       "\\item 'Potatoes (Irish).csv'\n",
       "\\item 'Sorghum.csv'\n",
       "\\item 'Tomatoes.csv'\n",
       "\\end{enumerate*}\n"
      ],
      "text/markdown": [
       "1. 'Beans (dry).csv'\n",
       "2. 'Cassava.csv'\n",
       "3. 'Chili (red).csv'\n",
       "4. 'Maize.csv'\n",
       "5. 'Oranges (big size).csv'\n",
       "6. 'Peas (fresh).csv'\n",
       "7. 'Potatoes (Irish).csv'\n",
       "8. 'Sorghum.csv'\n",
       "9. 'Tomatoes.csv'\n",
       "\n",
       "\n"
      ],
      "text/plain": [
       "[1] \"Beans (dry).csv\"        \"Cassava.csv\"            \"Chili (red).csv\"       \n",
       "[4] \"Maize.csv\"              \"Oranges (big size).csv\" \"Peas (fresh).csv\"      \n",
       "[7] \"Potatoes (Irish).csv\"   \"Sorghum.csv\"            \"Tomatoes.csv\"          "
      ]
     },
     "metadata": {},
     "output_type": "display_data"
    }
   ],
   "source": [
    "dir(\"datasets\")"
   ]
  },
  {
   "cell_type": "code",
   "execution_count": 7,
   "metadata": {},
   "outputs": [
    {
     "name": "stderr",
     "output_type": "stream",
     "text": [
      "Parsed with column specification:\n",
      "cols(\n",
      "  adm0_id = col_double(),\n",
      "  adm0_name = col_character(),\n",
      "  adm1_id = col_double(),\n",
      "  adm1_name = col_character(),\n",
      "  mkt_id = col_double(),\n",
      "  mkt_name = col_character(),\n",
      "  cm_id = col_double(),\n",
      "  cm_name = col_character(),\n",
      "  cur_id = col_double(),\n",
      "  cur_name = col_character(),\n",
      "  pt_id = col_double(),\n",
      "  pt_name = col_character(),\n",
      "  um_id = col_double(),\n",
      "  um_name = col_character(),\n",
      "  mp_month = col_double(),\n",
      "  mp_year = col_double(),\n",
      "  mp_price = col_double(),\n",
      "  mp_commoditysource = col_character()\n",
      ")\n"
     ]
    },
    {
     "data": {
      "text/plain": [
       "         Point Forecast      Lo 80    Hi 80        Lo 95    Hi 95\n",
       "Jan 2016       307.9121 284.046862 331.7773  271.4133862 344.4107\n",
       "Feb 2016       297.1746 262.071187 332.2779  243.4885868 350.8605\n",
       "Mar 2016       297.7977 251.544532 344.0508  227.0596039 368.5357\n",
       "Apr 2016       307.0315 248.131491 365.9314  216.9517324 397.1112\n",
       "May 2016       309.4047 238.664487 380.1450  201.2168618 417.5926\n",
       "Jun 2016       276.9982 203.279192 350.7171  164.2547236 389.7416\n",
       "Jul 2016       245.8318 170.960910 320.7026  131.3266734 360.3369\n",
       "Aug 2016       248.6999 163.139501 334.2604  117.8465481 379.5533\n",
       "Sep 2016       258.1901 158.887619 357.4926  106.3200623 410.0601\n",
       "Oct 2016       264.0277 151.463285 376.5922   91.8752635 436.1802\n",
       "Nov 2016       270.3264 143.481817 397.1709   76.3343726 464.3183\n",
       "Dec 2016       270.0375 131.428890 408.6461   58.0539140 482.0211\n",
       "Jan 2017       263.6986 116.411947 410.9852   38.4431117 488.9541\n",
       "Feb 2017       255.0584 100.757980 409.3589   19.0762507 491.0406\n",
       "Mar 2017       256.1503  88.998545 423.3021    0.5137448 511.7869\n",
       "Apr 2017       264.6672  79.052434 450.2821  -19.2061134 548.5406\n",
       "May 2017       267.2919  66.492148 468.0917  -39.8048437 574.3887\n",
       "Jun 2017       239.8142  47.406369 432.2221  -54.4481926 534.0766\n",
       "Jul 2017       213.2909  31.021475 395.5603  -65.4661335 492.0479\n",
       "Aug 2017       216.2436  19.905897 412.5812  -84.0289848 516.5161\n",
       "Sep 2017       224.9763   8.439994 441.5127 -106.1874243 556.1401\n",
       "Oct 2017       230.5541  -4.189381 465.2975 -128.4550589 589.5632\n",
       "Nov 2017       236.5558 -17.742768 490.8543 -152.3602809 625.4718\n",
       "Dec 2017       236.8028 -31.491692 505.0972 -173.5181991 647.1237"
      ]
     },
     "metadata": {},
     "output_type": "display_data"
    }
   ],
   "source": [
    "sorghum_median_price_by_date <- get_median_price_by_date(\"datasets/Sorghum.csv\")\n",
    "forecast_price(sorghum_median_price_by_date) "
   ]
  },
  {
   "cell_type": "code",
   "execution_count": null,
   "metadata": {
    "collapsed": true
   },
   "outputs": [],
   "source": [
    "## Stretch tasks (not tested)\n",
    "### If you want to explore the data further, try these tasks.\n",
    "\n",
    "### The forecast for cassava is unusual. How would you interpret it?\n",
    "### There are nine datasets in the datasets directory. Try your functions on the other commodities.\n",
    "### Try visualizing the time series and the forecasts.\n",
    "### Are there differences in prices between different regions in Rwanda for any commodities?\n",
    "### What happens if you tweak the settings for forecast()?\n",
    "### Can you perform the importing, data manipulation or forecasting tasks with different packages?"
   ]
  }
 ],
 "metadata": {
  "kernelspec": {
   "display_name": "R",
   "language": "R",
   "name": "ir"
  },
  "language_info": {
   "codemirror_mode": "r",
   "file_extension": ".r",
   "mimetype": "text/x-r-source",
   "name": "R",
   "pygments_lexer": "r",
   "version": "3.6.1"
  }
 },
 "nbformat": 4,
 "nbformat_minor": 2
}
